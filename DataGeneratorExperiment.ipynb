{
  "cells": [
    {
      "cell_type": "markdown",
      "metadata": {
        "id": "view-in-github",
        "colab_type": "text"
      },
      "source": [
        "<a href=\"https://colab.research.google.com/github/jacksonStone/sentiment-analysis-with-hot-one-encoding-2/blob/main/DataGeneratorExperiment.ipynb\" target=\"_parent\"><img src=\"https://colab.research.google.com/assets/colab-badge.svg\" alt=\"Open In Colab\"/></a>"
      ]
    },
    {
      "cell_type": "code",
      "execution_count": null,
      "metadata": {
        "colab": {
          "base_uri": "https://localhost:8080/"
        },
        "id": "_CRNGRBTAWba",
        "outputId": "2d87c663-aea3-4d9e-df80-5a26f49ae5c0",
        "collapsed": true
      },
      "outputs": [
        {
          "output_type": "stream",
          "name": "stdout",
          "text": [
            "Collecting groq\n",
            "  Downloading groq-0.8.0-py3-none-any.whl (105 kB)\n",
            "\u001b[2K     \u001b[90m━━━━━━━━━━━━━━━━━━━━━━━━━━━━━━━━━━━━━━━━\u001b[0m \u001b[32m105.4/105.4 kB\u001b[0m \u001b[31m1.4 MB/s\u001b[0m eta \u001b[36m0:00:00\u001b[0m\n",
            "\u001b[?25hRequirement already satisfied: anyio<5,>=3.5.0 in /usr/local/lib/python3.10/dist-packages (from groq) (3.7.1)\n",
            "Requirement already satisfied: distro<2,>=1.7.0 in /usr/lib/python3/dist-packages (from groq) (1.7.0)\n",
            "Collecting httpx<1,>=0.23.0 (from groq)\n",
            "  Downloading httpx-0.27.0-py3-none-any.whl (75 kB)\n",
            "\u001b[2K     \u001b[90m━━━━━━━━━━━━━━━━━━━━━━━━━━━━━━━━━━━━━━━━\u001b[0m \u001b[32m75.6/75.6 kB\u001b[0m \u001b[31m3.8 MB/s\u001b[0m eta \u001b[36m0:00:00\u001b[0m\n",
            "\u001b[?25hRequirement already satisfied: pydantic<3,>=1.9.0 in /usr/local/lib/python3.10/dist-packages (from groq) (2.7.3)\n",
            "Requirement already satisfied: sniffio in /usr/local/lib/python3.10/dist-packages (from groq) (1.3.1)\n",
            "Requirement already satisfied: typing-extensions<5,>=4.7 in /usr/local/lib/python3.10/dist-packages (from groq) (4.12.1)\n",
            "Requirement already satisfied: idna>=2.8 in /usr/local/lib/python3.10/dist-packages (from anyio<5,>=3.5.0->groq) (3.7)\n",
            "Requirement already satisfied: exceptiongroup in /usr/local/lib/python3.10/dist-packages (from anyio<5,>=3.5.0->groq) (1.2.1)\n",
            "Requirement already satisfied: certifi in /usr/local/lib/python3.10/dist-packages (from httpx<1,>=0.23.0->groq) (2024.6.2)\n",
            "Collecting httpcore==1.* (from httpx<1,>=0.23.0->groq)\n",
            "  Downloading httpcore-1.0.5-py3-none-any.whl (77 kB)\n",
            "\u001b[2K     \u001b[90m━━━━━━━━━━━━━━━━━━━━━━━━━━━━━━━━━━━━━━━━\u001b[0m \u001b[32m77.9/77.9 kB\u001b[0m \u001b[31m3.1 MB/s\u001b[0m eta \u001b[36m0:00:00\u001b[0m\n",
            "\u001b[?25hCollecting h11<0.15,>=0.13 (from httpcore==1.*->httpx<1,>=0.23.0->groq)\n",
            "  Downloading h11-0.14.0-py3-none-any.whl (58 kB)\n",
            "\u001b[2K     \u001b[90m━━━━━━━━━━━━━━━━━━━━━━━━━━━━━━━━━━━━━━━━\u001b[0m \u001b[32m58.3/58.3 kB\u001b[0m \u001b[31m2.8 MB/s\u001b[0m eta \u001b[36m0:00:00\u001b[0m\n",
            "\u001b[?25hRequirement already satisfied: annotated-types>=0.4.0 in /usr/local/lib/python3.10/dist-packages (from pydantic<3,>=1.9.0->groq) (0.7.0)\n",
            "Requirement already satisfied: pydantic-core==2.18.4 in /usr/local/lib/python3.10/dist-packages (from pydantic<3,>=1.9.0->groq) (2.18.4)\n",
            "Installing collected packages: h11, httpcore, httpx, groq\n",
            "Successfully installed groq-0.8.0 h11-0.14.0 httpcore-1.0.5 httpx-0.27.0\n"
          ]
        }
      ],
      "source": [
        "!pip install groq"
      ]
    },
    {
      "cell_type": "markdown",
      "source": [
        "First we need to generate a test data set.\n",
        "I leverage Grok and the latest Llama 3 to do this."
      ],
      "metadata": {
        "id": "L1PTyO8xvS6-"
      }
    },
    {
      "cell_type": "code",
      "execution_count": null,
      "metadata": {
        "colab": {
          "base_uri": "https://localhost:8080/",
          "height": 385
        },
        "id": "5FXOfg4zbuLR",
        "outputId": "b716a84e-47b2-4be8-b5c2-62d07a448e30",
        "collapsed": true
      },
      "outputs": [
        {
          "output_type": "error",
          "ename": "KeyboardInterrupt",
          "evalue": "",
          "traceback": [
            "\u001b[0;31m---------------------------------------------------------------------------\u001b[0m",
            "\u001b[0;31mKeyboardInterrupt\u001b[0m                         Traceback (most recent call last)",
            "\u001b[0;32m<ipython-input-13-3858eadb1768>\u001b[0m in \u001b[0;36m<cell line: 9>\u001b[0;34m()\u001b[0m\n\u001b[1;32m     11\u001b[0m     \u001b[0msleep\u001b[0m\u001b[0;34m(\u001b[0m\u001b[0;36m50\u001b[0m\u001b[0;34m)\u001b[0m\u001b[0;34m\u001b[0m\u001b[0;34m\u001b[0m\u001b[0m\n\u001b[1;32m     12\u001b[0m   \u001b[0;32mfor\u001b[0m \u001b[0mi\u001b[0m \u001b[0;32min\u001b[0m \u001b[0mrange\u001b[0m\u001b[0;34m(\u001b[0m\u001b[0;36m30\u001b[0m\u001b[0;34m)\u001b[0m\u001b[0;34m:\u001b[0m\u001b[0;34m\u001b[0m\u001b[0;34m\u001b[0m\u001b[0m\n\u001b[0;32m---> 13\u001b[0;31m     chat_completion = client.chat.completions.create(\n\u001b[0m\u001b[1;32m     14\u001b[0m       messages=[\n\u001b[1;32m     15\u001b[0m           {\n",
            "\u001b[0;32m/usr/local/lib/python3.10/dist-packages/groq/resources/chat/completions.py\u001b[0m in \u001b[0;36mcreate\u001b[0;34m(self, messages, model, frequency_penalty, function_call, functions, logit_bias, logprobs, max_tokens, n, presence_penalty, response_format, seed, stop, stream, temperature, tool_choice, tools, top_logprobs, top_p, user, extra_headers, extra_query, extra_body, timeout)\u001b[0m\n\u001b[1;32m    281\u001b[0m           \u001b[0mtimeout\u001b[0m\u001b[0;34m:\u001b[0m \u001b[0mOverride\u001b[0m \u001b[0mthe\u001b[0m \u001b[0mclient\u001b[0m\u001b[0;34m-\u001b[0m\u001b[0mlevel\u001b[0m \u001b[0mdefault\u001b[0m \u001b[0mtimeout\u001b[0m \u001b[0;32mfor\u001b[0m \u001b[0mthis\u001b[0m \u001b[0mrequest\u001b[0m\u001b[0;34m,\u001b[0m \u001b[0;32min\u001b[0m \u001b[0mseconds\u001b[0m\u001b[0;34m\u001b[0m\u001b[0;34m\u001b[0m\u001b[0m\n\u001b[1;32m    282\u001b[0m         \"\"\"\n\u001b[0;32m--> 283\u001b[0;31m         return self._post(\n\u001b[0m\u001b[1;32m    284\u001b[0m             \u001b[0;34m\"/openai/v1/chat/completions\"\u001b[0m\u001b[0;34m,\u001b[0m\u001b[0;34m\u001b[0m\u001b[0;34m\u001b[0m\u001b[0m\n\u001b[1;32m    285\u001b[0m             body=maybe_transform(\n",
            "\u001b[0;32m/usr/local/lib/python3.10/dist-packages/groq/_base_client.py\u001b[0m in \u001b[0;36mpost\u001b[0;34m(self, path, cast_to, body, options, files, stream, stream_cls)\u001b[0m\n\u001b[1;32m   1223\u001b[0m             \u001b[0mmethod\u001b[0m\u001b[0;34m=\u001b[0m\u001b[0;34m\"post\"\u001b[0m\u001b[0;34m,\u001b[0m \u001b[0murl\u001b[0m\u001b[0;34m=\u001b[0m\u001b[0mpath\u001b[0m\u001b[0;34m,\u001b[0m \u001b[0mjson_data\u001b[0m\u001b[0;34m=\u001b[0m\u001b[0mbody\u001b[0m\u001b[0;34m,\u001b[0m \u001b[0mfiles\u001b[0m\u001b[0;34m=\u001b[0m\u001b[0mto_httpx_files\u001b[0m\u001b[0;34m(\u001b[0m\u001b[0mfiles\u001b[0m\u001b[0;34m)\u001b[0m\u001b[0;34m,\u001b[0m \u001b[0;34m**\u001b[0m\u001b[0moptions\u001b[0m\u001b[0;34m\u001b[0m\u001b[0;34m\u001b[0m\u001b[0m\n\u001b[1;32m   1224\u001b[0m         )\n\u001b[0;32m-> 1225\u001b[0;31m         \u001b[0;32mreturn\u001b[0m \u001b[0mcast\u001b[0m\u001b[0;34m(\u001b[0m\u001b[0mResponseT\u001b[0m\u001b[0;34m,\u001b[0m \u001b[0mself\u001b[0m\u001b[0;34m.\u001b[0m\u001b[0mrequest\u001b[0m\u001b[0;34m(\u001b[0m\u001b[0mcast_to\u001b[0m\u001b[0;34m,\u001b[0m \u001b[0mopts\u001b[0m\u001b[0;34m,\u001b[0m \u001b[0mstream\u001b[0m\u001b[0;34m=\u001b[0m\u001b[0mstream\u001b[0m\u001b[0;34m,\u001b[0m \u001b[0mstream_cls\u001b[0m\u001b[0;34m=\u001b[0m\u001b[0mstream_cls\u001b[0m\u001b[0;34m)\u001b[0m\u001b[0;34m)\u001b[0m\u001b[0;34m\u001b[0m\u001b[0;34m\u001b[0m\u001b[0m\n\u001b[0m\u001b[1;32m   1226\u001b[0m \u001b[0;34m\u001b[0m\u001b[0m\n\u001b[1;32m   1227\u001b[0m     def patch(\n",
            "\u001b[0;32m/usr/local/lib/python3.10/dist-packages/groq/_base_client.py\u001b[0m in \u001b[0;36mrequest\u001b[0;34m(self, cast_to, options, remaining_retries, stream, stream_cls)\u001b[0m\n\u001b[1;32m    918\u001b[0m         \u001b[0mstream_cls\u001b[0m\u001b[0;34m:\u001b[0m \u001b[0mtype\u001b[0m\u001b[0;34m[\u001b[0m\u001b[0m_StreamT\u001b[0m\u001b[0;34m]\u001b[0m \u001b[0;34m|\u001b[0m \u001b[0;32mNone\u001b[0m \u001b[0;34m=\u001b[0m \u001b[0;32mNone\u001b[0m\u001b[0;34m,\u001b[0m\u001b[0;34m\u001b[0m\u001b[0;34m\u001b[0m\u001b[0m\n\u001b[1;32m    919\u001b[0m     ) -> ResponseT | _StreamT:\n\u001b[0;32m--> 920\u001b[0;31m         return self._request(\n\u001b[0m\u001b[1;32m    921\u001b[0m             \u001b[0mcast_to\u001b[0m\u001b[0;34m=\u001b[0m\u001b[0mcast_to\u001b[0m\u001b[0;34m,\u001b[0m\u001b[0;34m\u001b[0m\u001b[0;34m\u001b[0m\u001b[0m\n\u001b[1;32m    922\u001b[0m             \u001b[0moptions\u001b[0m\u001b[0;34m=\u001b[0m\u001b[0moptions\u001b[0m\u001b[0;34m,\u001b[0m\u001b[0;34m\u001b[0m\u001b[0;34m\u001b[0m\u001b[0m\n",
            "\u001b[0;32m/usr/local/lib/python3.10/dist-packages/groq/_base_client.py\u001b[0m in \u001b[0;36m_request\u001b[0;34m(self, cast_to, options, remaining_retries, stream, stream_cls)\u001b[0m\n\u001b[1;32m    949\u001b[0m \u001b[0;34m\u001b[0m\u001b[0m\n\u001b[1;32m    950\u001b[0m         \u001b[0;32mtry\u001b[0m\u001b[0;34m:\u001b[0m\u001b[0;34m\u001b[0m\u001b[0;34m\u001b[0m\u001b[0m\n\u001b[0;32m--> 951\u001b[0;31m             response = self._client.send(\n\u001b[0m\u001b[1;32m    952\u001b[0m                 \u001b[0mrequest\u001b[0m\u001b[0;34m,\u001b[0m\u001b[0;34m\u001b[0m\u001b[0;34m\u001b[0m\u001b[0m\n\u001b[1;32m    953\u001b[0m                 \u001b[0mstream\u001b[0m\u001b[0;34m=\u001b[0m\u001b[0mstream\u001b[0m \u001b[0;32mor\u001b[0m \u001b[0mself\u001b[0m\u001b[0;34m.\u001b[0m\u001b[0m_should_stream_response_body\u001b[0m\u001b[0;34m(\u001b[0m\u001b[0mrequest\u001b[0m\u001b[0;34m=\u001b[0m\u001b[0mrequest\u001b[0m\u001b[0;34m)\u001b[0m\u001b[0;34m,\u001b[0m\u001b[0;34m\u001b[0m\u001b[0;34m\u001b[0m\u001b[0m\n",
            "\u001b[0;32m/usr/local/lib/python3.10/dist-packages/httpx/_client.py\u001b[0m in \u001b[0;36msend\u001b[0;34m(self, request, stream, auth, follow_redirects)\u001b[0m\n\u001b[1;32m    912\u001b[0m         \u001b[0mauth\u001b[0m \u001b[0;34m=\u001b[0m \u001b[0mself\u001b[0m\u001b[0;34m.\u001b[0m\u001b[0m_build_request_auth\u001b[0m\u001b[0;34m(\u001b[0m\u001b[0mrequest\u001b[0m\u001b[0;34m,\u001b[0m \u001b[0mauth\u001b[0m\u001b[0;34m)\u001b[0m\u001b[0;34m\u001b[0m\u001b[0;34m\u001b[0m\u001b[0m\n\u001b[1;32m    913\u001b[0m \u001b[0;34m\u001b[0m\u001b[0m\n\u001b[0;32m--> 914\u001b[0;31m         response = self._send_handling_auth(\n\u001b[0m\u001b[1;32m    915\u001b[0m             \u001b[0mrequest\u001b[0m\u001b[0;34m,\u001b[0m\u001b[0;34m\u001b[0m\u001b[0;34m\u001b[0m\u001b[0m\n\u001b[1;32m    916\u001b[0m             \u001b[0mauth\u001b[0m\u001b[0;34m=\u001b[0m\u001b[0mauth\u001b[0m\u001b[0;34m,\u001b[0m\u001b[0;34m\u001b[0m\u001b[0;34m\u001b[0m\u001b[0m\n",
            "\u001b[0;32m/usr/local/lib/python3.10/dist-packages/httpx/_client.py\u001b[0m in \u001b[0;36m_send_handling_auth\u001b[0;34m(self, request, auth, follow_redirects, history)\u001b[0m\n\u001b[1;32m    940\u001b[0m \u001b[0;34m\u001b[0m\u001b[0m\n\u001b[1;32m    941\u001b[0m             \u001b[0;32mwhile\u001b[0m \u001b[0;32mTrue\u001b[0m\u001b[0;34m:\u001b[0m\u001b[0;34m\u001b[0m\u001b[0;34m\u001b[0m\u001b[0m\n\u001b[0;32m--> 942\u001b[0;31m                 response = self._send_handling_redirects(\n\u001b[0m\u001b[1;32m    943\u001b[0m                     \u001b[0mrequest\u001b[0m\u001b[0;34m,\u001b[0m\u001b[0;34m\u001b[0m\u001b[0;34m\u001b[0m\u001b[0m\n\u001b[1;32m    944\u001b[0m                     \u001b[0mfollow_redirects\u001b[0m\u001b[0;34m=\u001b[0m\u001b[0mfollow_redirects\u001b[0m\u001b[0;34m,\u001b[0m\u001b[0;34m\u001b[0m\u001b[0;34m\u001b[0m\u001b[0m\n",
            "\u001b[0;32m/usr/local/lib/python3.10/dist-packages/httpx/_client.py\u001b[0m in \u001b[0;36m_send_handling_redirects\u001b[0;34m(self, request, follow_redirects, history)\u001b[0m\n\u001b[1;32m    977\u001b[0m                 \u001b[0mhook\u001b[0m\u001b[0;34m(\u001b[0m\u001b[0mrequest\u001b[0m\u001b[0;34m)\u001b[0m\u001b[0;34m\u001b[0m\u001b[0;34m\u001b[0m\u001b[0m\n\u001b[1;32m    978\u001b[0m \u001b[0;34m\u001b[0m\u001b[0m\n\u001b[0;32m--> 979\u001b[0;31m             \u001b[0mresponse\u001b[0m \u001b[0;34m=\u001b[0m \u001b[0mself\u001b[0m\u001b[0;34m.\u001b[0m\u001b[0m_send_single_request\u001b[0m\u001b[0;34m(\u001b[0m\u001b[0mrequest\u001b[0m\u001b[0;34m)\u001b[0m\u001b[0;34m\u001b[0m\u001b[0;34m\u001b[0m\u001b[0m\n\u001b[0m\u001b[1;32m    980\u001b[0m             \u001b[0;32mtry\u001b[0m\u001b[0;34m:\u001b[0m\u001b[0;34m\u001b[0m\u001b[0;34m\u001b[0m\u001b[0m\n\u001b[1;32m    981\u001b[0m                 \u001b[0;32mfor\u001b[0m \u001b[0mhook\u001b[0m \u001b[0;32min\u001b[0m \u001b[0mself\u001b[0m\u001b[0;34m.\u001b[0m\u001b[0m_event_hooks\u001b[0m\u001b[0;34m[\u001b[0m\u001b[0;34m\"response\"\u001b[0m\u001b[0;34m]\u001b[0m\u001b[0;34m:\u001b[0m\u001b[0;34m\u001b[0m\u001b[0;34m\u001b[0m\u001b[0m\n",
            "\u001b[0;32m/usr/local/lib/python3.10/dist-packages/httpx/_client.py\u001b[0m in \u001b[0;36m_send_single_request\u001b[0;34m(self, request)\u001b[0m\n\u001b[1;32m   1013\u001b[0m \u001b[0;34m\u001b[0m\u001b[0m\n\u001b[1;32m   1014\u001b[0m         \u001b[0;32mwith\u001b[0m \u001b[0mrequest_context\u001b[0m\u001b[0;34m(\u001b[0m\u001b[0mrequest\u001b[0m\u001b[0;34m=\u001b[0m\u001b[0mrequest\u001b[0m\u001b[0;34m)\u001b[0m\u001b[0;34m:\u001b[0m\u001b[0;34m\u001b[0m\u001b[0;34m\u001b[0m\u001b[0m\n\u001b[0;32m-> 1015\u001b[0;31m             \u001b[0mresponse\u001b[0m \u001b[0;34m=\u001b[0m \u001b[0mtransport\u001b[0m\u001b[0;34m.\u001b[0m\u001b[0mhandle_request\u001b[0m\u001b[0;34m(\u001b[0m\u001b[0mrequest\u001b[0m\u001b[0;34m)\u001b[0m\u001b[0;34m\u001b[0m\u001b[0;34m\u001b[0m\u001b[0m\n\u001b[0m\u001b[1;32m   1016\u001b[0m \u001b[0;34m\u001b[0m\u001b[0m\n\u001b[1;32m   1017\u001b[0m         \u001b[0;32massert\u001b[0m \u001b[0misinstance\u001b[0m\u001b[0;34m(\u001b[0m\u001b[0mresponse\u001b[0m\u001b[0;34m.\u001b[0m\u001b[0mstream\u001b[0m\u001b[0;34m,\u001b[0m \u001b[0mSyncByteStream\u001b[0m\u001b[0;34m)\u001b[0m\u001b[0;34m\u001b[0m\u001b[0;34m\u001b[0m\u001b[0m\n",
            "\u001b[0;32m/usr/local/lib/python3.10/dist-packages/httpx/_transports/default.py\u001b[0m in \u001b[0;36mhandle_request\u001b[0;34m(self, request)\u001b[0m\n\u001b[1;32m    231\u001b[0m         )\n\u001b[1;32m    232\u001b[0m         \u001b[0;32mwith\u001b[0m \u001b[0mmap_httpcore_exceptions\u001b[0m\u001b[0;34m(\u001b[0m\u001b[0;34m)\u001b[0m\u001b[0;34m:\u001b[0m\u001b[0;34m\u001b[0m\u001b[0;34m\u001b[0m\u001b[0m\n\u001b[0;32m--> 233\u001b[0;31m             \u001b[0mresp\u001b[0m \u001b[0;34m=\u001b[0m \u001b[0mself\u001b[0m\u001b[0;34m.\u001b[0m\u001b[0m_pool\u001b[0m\u001b[0;34m.\u001b[0m\u001b[0mhandle_request\u001b[0m\u001b[0;34m(\u001b[0m\u001b[0mreq\u001b[0m\u001b[0;34m)\u001b[0m\u001b[0;34m\u001b[0m\u001b[0;34m\u001b[0m\u001b[0m\n\u001b[0m\u001b[1;32m    234\u001b[0m \u001b[0;34m\u001b[0m\u001b[0m\n\u001b[1;32m    235\u001b[0m         \u001b[0;32massert\u001b[0m \u001b[0misinstance\u001b[0m\u001b[0;34m(\u001b[0m\u001b[0mresp\u001b[0m\u001b[0;34m.\u001b[0m\u001b[0mstream\u001b[0m\u001b[0;34m,\u001b[0m \u001b[0mtyping\u001b[0m\u001b[0;34m.\u001b[0m\u001b[0mIterable\u001b[0m\u001b[0;34m)\u001b[0m\u001b[0;34m\u001b[0m\u001b[0;34m\u001b[0m\u001b[0m\n",
            "\u001b[0;32m/usr/local/lib/python3.10/dist-packages/httpcore/_sync/connection_pool.py\u001b[0m in \u001b[0;36mhandle_request\u001b[0;34m(self, request)\u001b[0m\n\u001b[1;32m    214\u001b[0m \u001b[0;34m\u001b[0m\u001b[0m\n\u001b[1;32m    215\u001b[0m             \u001b[0mself\u001b[0m\u001b[0;34m.\u001b[0m\u001b[0m_close_connections\u001b[0m\u001b[0;34m(\u001b[0m\u001b[0mclosing\u001b[0m\u001b[0;34m)\u001b[0m\u001b[0;34m\u001b[0m\u001b[0;34m\u001b[0m\u001b[0m\n\u001b[0;32m--> 216\u001b[0;31m             \u001b[0;32mraise\u001b[0m \u001b[0mexc\u001b[0m \u001b[0;32mfrom\u001b[0m \u001b[0;32mNone\u001b[0m\u001b[0;34m\u001b[0m\u001b[0;34m\u001b[0m\u001b[0m\n\u001b[0m\u001b[1;32m    217\u001b[0m \u001b[0;34m\u001b[0m\u001b[0m\n\u001b[1;32m    218\u001b[0m         \u001b[0;31m# Return the response. Note that in this case we still have to manage\u001b[0m\u001b[0;34m\u001b[0m\u001b[0;34m\u001b[0m\u001b[0m\n",
            "\u001b[0;32m/usr/local/lib/python3.10/dist-packages/httpcore/_sync/connection_pool.py\u001b[0m in \u001b[0;36mhandle_request\u001b[0;34m(self, request)\u001b[0m\n\u001b[1;32m    194\u001b[0m                 \u001b[0;32mtry\u001b[0m\u001b[0;34m:\u001b[0m\u001b[0;34m\u001b[0m\u001b[0;34m\u001b[0m\u001b[0m\n\u001b[1;32m    195\u001b[0m                     \u001b[0;31m# Send the request on the assigned connection.\u001b[0m\u001b[0;34m\u001b[0m\u001b[0;34m\u001b[0m\u001b[0m\n\u001b[0;32m--> 196\u001b[0;31m                     response = connection.handle_request(\n\u001b[0m\u001b[1;32m    197\u001b[0m                         \u001b[0mpool_request\u001b[0m\u001b[0;34m.\u001b[0m\u001b[0mrequest\u001b[0m\u001b[0;34m\u001b[0m\u001b[0;34m\u001b[0m\u001b[0m\n\u001b[1;32m    198\u001b[0m                     )\n",
            "\u001b[0;32m/usr/local/lib/python3.10/dist-packages/httpcore/_sync/connection.py\u001b[0m in \u001b[0;36mhandle_request\u001b[0;34m(self, request)\u001b[0m\n\u001b[1;32m     99\u001b[0m             \u001b[0;32mraise\u001b[0m \u001b[0mexc\u001b[0m\u001b[0;34m\u001b[0m\u001b[0;34m\u001b[0m\u001b[0m\n\u001b[1;32m    100\u001b[0m \u001b[0;34m\u001b[0m\u001b[0m\n\u001b[0;32m--> 101\u001b[0;31m         \u001b[0;32mreturn\u001b[0m \u001b[0mself\u001b[0m\u001b[0;34m.\u001b[0m\u001b[0m_connection\u001b[0m\u001b[0;34m.\u001b[0m\u001b[0mhandle_request\u001b[0m\u001b[0;34m(\u001b[0m\u001b[0mrequest\u001b[0m\u001b[0;34m)\u001b[0m\u001b[0;34m\u001b[0m\u001b[0;34m\u001b[0m\u001b[0m\n\u001b[0m\u001b[1;32m    102\u001b[0m \u001b[0;34m\u001b[0m\u001b[0m\n\u001b[1;32m    103\u001b[0m     \u001b[0;32mdef\u001b[0m \u001b[0m_connect\u001b[0m\u001b[0;34m(\u001b[0m\u001b[0mself\u001b[0m\u001b[0;34m,\u001b[0m \u001b[0mrequest\u001b[0m\u001b[0;34m:\u001b[0m \u001b[0mRequest\u001b[0m\u001b[0;34m)\u001b[0m \u001b[0;34m->\u001b[0m \u001b[0mNetworkStream\u001b[0m\u001b[0;34m:\u001b[0m\u001b[0;34m\u001b[0m\u001b[0;34m\u001b[0m\u001b[0m\n",
            "\u001b[0;32m/usr/local/lib/python3.10/dist-packages/httpcore/_sync/http11.py\u001b[0m in \u001b[0;36mhandle_request\u001b[0;34m(self, request)\u001b[0m\n\u001b[1;32m    141\u001b[0m                 \u001b[0;32mwith\u001b[0m \u001b[0mTrace\u001b[0m\u001b[0;34m(\u001b[0m\u001b[0;34m\"response_closed\"\u001b[0m\u001b[0;34m,\u001b[0m \u001b[0mlogger\u001b[0m\u001b[0;34m,\u001b[0m \u001b[0mrequest\u001b[0m\u001b[0;34m)\u001b[0m \u001b[0;32mas\u001b[0m \u001b[0mtrace\u001b[0m\u001b[0;34m:\u001b[0m\u001b[0;34m\u001b[0m\u001b[0;34m\u001b[0m\u001b[0m\n\u001b[1;32m    142\u001b[0m                     \u001b[0mself\u001b[0m\u001b[0;34m.\u001b[0m\u001b[0m_response_closed\u001b[0m\u001b[0;34m(\u001b[0m\u001b[0;34m)\u001b[0m\u001b[0;34m\u001b[0m\u001b[0;34m\u001b[0m\u001b[0m\n\u001b[0;32m--> 143\u001b[0;31m             \u001b[0;32mraise\u001b[0m \u001b[0mexc\u001b[0m\u001b[0;34m\u001b[0m\u001b[0;34m\u001b[0m\u001b[0m\n\u001b[0m\u001b[1;32m    144\u001b[0m \u001b[0;34m\u001b[0m\u001b[0m\n\u001b[1;32m    145\u001b[0m     \u001b[0;31m# Sending the request...\u001b[0m\u001b[0;34m\u001b[0m\u001b[0;34m\u001b[0m\u001b[0m\n",
            "\u001b[0;32m/usr/local/lib/python3.10/dist-packages/httpcore/_sync/http11.py\u001b[0m in \u001b[0;36mhandle_request\u001b[0;34m(self, request)\u001b[0m\n\u001b[1;32m    111\u001b[0m                     \u001b[0mheaders\u001b[0m\u001b[0;34m,\u001b[0m\u001b[0;34m\u001b[0m\u001b[0;34m\u001b[0m\u001b[0m\n\u001b[1;32m    112\u001b[0m                     \u001b[0mtrailing_data\u001b[0m\u001b[0;34m,\u001b[0m\u001b[0;34m\u001b[0m\u001b[0;34m\u001b[0m\u001b[0m\n\u001b[0;32m--> 113\u001b[0;31m                 ) = self._receive_response_headers(**kwargs)\n\u001b[0m\u001b[1;32m    114\u001b[0m                 trace.return_value = (\n\u001b[1;32m    115\u001b[0m                     \u001b[0mhttp_version\u001b[0m\u001b[0;34m,\u001b[0m\u001b[0;34m\u001b[0m\u001b[0;34m\u001b[0m\u001b[0m\n",
            "\u001b[0;32m/usr/local/lib/python3.10/dist-packages/httpcore/_sync/http11.py\u001b[0m in \u001b[0;36m_receive_response_headers\u001b[0;34m(self, request)\u001b[0m\n\u001b[1;32m    184\u001b[0m \u001b[0;34m\u001b[0m\u001b[0m\n\u001b[1;32m    185\u001b[0m         \u001b[0;32mwhile\u001b[0m \u001b[0;32mTrue\u001b[0m\u001b[0;34m:\u001b[0m\u001b[0;34m\u001b[0m\u001b[0;34m\u001b[0m\u001b[0m\n\u001b[0;32m--> 186\u001b[0;31m             \u001b[0mevent\u001b[0m \u001b[0;34m=\u001b[0m \u001b[0mself\u001b[0m\u001b[0;34m.\u001b[0m\u001b[0m_receive_event\u001b[0m\u001b[0;34m(\u001b[0m\u001b[0mtimeout\u001b[0m\u001b[0;34m=\u001b[0m\u001b[0mtimeout\u001b[0m\u001b[0;34m)\u001b[0m\u001b[0;34m\u001b[0m\u001b[0;34m\u001b[0m\u001b[0m\n\u001b[0m\u001b[1;32m    187\u001b[0m             \u001b[0;32mif\u001b[0m \u001b[0misinstance\u001b[0m\u001b[0;34m(\u001b[0m\u001b[0mevent\u001b[0m\u001b[0;34m,\u001b[0m \u001b[0mh11\u001b[0m\u001b[0;34m.\u001b[0m\u001b[0mResponse\u001b[0m\u001b[0;34m)\u001b[0m\u001b[0;34m:\u001b[0m\u001b[0;34m\u001b[0m\u001b[0;34m\u001b[0m\u001b[0m\n\u001b[1;32m    188\u001b[0m                 \u001b[0;32mbreak\u001b[0m\u001b[0;34m\u001b[0m\u001b[0;34m\u001b[0m\u001b[0m\n",
            "\u001b[0;32m/usr/local/lib/python3.10/dist-packages/httpcore/_sync/http11.py\u001b[0m in \u001b[0;36m_receive_event\u001b[0;34m(self, timeout)\u001b[0m\n\u001b[1;32m    222\u001b[0m \u001b[0;34m\u001b[0m\u001b[0m\n\u001b[1;32m    223\u001b[0m             \u001b[0;32mif\u001b[0m \u001b[0mevent\u001b[0m \u001b[0;32mis\u001b[0m \u001b[0mh11\u001b[0m\u001b[0;34m.\u001b[0m\u001b[0mNEED_DATA\u001b[0m\u001b[0;34m:\u001b[0m\u001b[0;34m\u001b[0m\u001b[0;34m\u001b[0m\u001b[0m\n\u001b[0;32m--> 224\u001b[0;31m                 data = self._network_stream.read(\n\u001b[0m\u001b[1;32m    225\u001b[0m                     \u001b[0mself\u001b[0m\u001b[0;34m.\u001b[0m\u001b[0mREAD_NUM_BYTES\u001b[0m\u001b[0;34m,\u001b[0m \u001b[0mtimeout\u001b[0m\u001b[0;34m=\u001b[0m\u001b[0mtimeout\u001b[0m\u001b[0;34m\u001b[0m\u001b[0;34m\u001b[0m\u001b[0m\n\u001b[1;32m    226\u001b[0m                 )\n",
            "\u001b[0;32m/usr/local/lib/python3.10/dist-packages/httpcore/_backends/sync.py\u001b[0m in \u001b[0;36mread\u001b[0;34m(self, max_bytes, timeout)\u001b[0m\n\u001b[1;32m    124\u001b[0m         \u001b[0;32mwith\u001b[0m \u001b[0mmap_exceptions\u001b[0m\u001b[0;34m(\u001b[0m\u001b[0mexc_map\u001b[0m\u001b[0;34m)\u001b[0m\u001b[0;34m:\u001b[0m\u001b[0;34m\u001b[0m\u001b[0;34m\u001b[0m\u001b[0m\n\u001b[1;32m    125\u001b[0m             \u001b[0mself\u001b[0m\u001b[0;34m.\u001b[0m\u001b[0m_sock\u001b[0m\u001b[0;34m.\u001b[0m\u001b[0msettimeout\u001b[0m\u001b[0;34m(\u001b[0m\u001b[0mtimeout\u001b[0m\u001b[0;34m)\u001b[0m\u001b[0;34m\u001b[0m\u001b[0;34m\u001b[0m\u001b[0m\n\u001b[0;32m--> 126\u001b[0;31m             \u001b[0;32mreturn\u001b[0m \u001b[0mself\u001b[0m\u001b[0;34m.\u001b[0m\u001b[0m_sock\u001b[0m\u001b[0;34m.\u001b[0m\u001b[0mrecv\u001b[0m\u001b[0;34m(\u001b[0m\u001b[0mmax_bytes\u001b[0m\u001b[0;34m)\u001b[0m\u001b[0;34m\u001b[0m\u001b[0;34m\u001b[0m\u001b[0m\n\u001b[0m\u001b[1;32m    127\u001b[0m \u001b[0;34m\u001b[0m\u001b[0m\n\u001b[1;32m    128\u001b[0m     \u001b[0;32mdef\u001b[0m \u001b[0mwrite\u001b[0m\u001b[0;34m(\u001b[0m\u001b[0mself\u001b[0m\u001b[0;34m,\u001b[0m \u001b[0mbuffer\u001b[0m\u001b[0;34m:\u001b[0m \u001b[0mbytes\u001b[0m\u001b[0;34m,\u001b[0m \u001b[0mtimeout\u001b[0m\u001b[0;34m:\u001b[0m \u001b[0mtyping\u001b[0m\u001b[0;34m.\u001b[0m\u001b[0mOptional\u001b[0m\u001b[0;34m[\u001b[0m\u001b[0mfloat\u001b[0m\u001b[0;34m]\u001b[0m \u001b[0;34m=\u001b[0m \u001b[0;32mNone\u001b[0m\u001b[0;34m)\u001b[0m \u001b[0;34m->\u001b[0m \u001b[0;32mNone\u001b[0m\u001b[0;34m:\u001b[0m\u001b[0;34m\u001b[0m\u001b[0;34m\u001b[0m\u001b[0m\n",
            "\u001b[0;32m/usr/lib/python3.10/ssl.py\u001b[0m in \u001b[0;36mrecv\u001b[0;34m(self, buflen, flags)\u001b[0m\n\u001b[1;32m   1286\u001b[0m                     \u001b[0;34m\"non-zero flags not allowed in calls to recv() on %s\"\u001b[0m \u001b[0;34m%\u001b[0m\u001b[0;34m\u001b[0m\u001b[0;34m\u001b[0m\u001b[0m\n\u001b[1;32m   1287\u001b[0m                     self.__class__)\n\u001b[0;32m-> 1288\u001b[0;31m             \u001b[0;32mreturn\u001b[0m \u001b[0mself\u001b[0m\u001b[0;34m.\u001b[0m\u001b[0mread\u001b[0m\u001b[0;34m(\u001b[0m\u001b[0mbuflen\u001b[0m\u001b[0;34m)\u001b[0m\u001b[0;34m\u001b[0m\u001b[0;34m\u001b[0m\u001b[0m\n\u001b[0m\u001b[1;32m   1289\u001b[0m         \u001b[0;32melse\u001b[0m\u001b[0;34m:\u001b[0m\u001b[0;34m\u001b[0m\u001b[0;34m\u001b[0m\u001b[0m\n\u001b[1;32m   1290\u001b[0m             \u001b[0;32mreturn\u001b[0m \u001b[0msuper\u001b[0m\u001b[0;34m(\u001b[0m\u001b[0;34m)\u001b[0m\u001b[0;34m.\u001b[0m\u001b[0mrecv\u001b[0m\u001b[0;34m(\u001b[0m\u001b[0mbuflen\u001b[0m\u001b[0;34m,\u001b[0m \u001b[0mflags\u001b[0m\u001b[0;34m)\u001b[0m\u001b[0;34m\u001b[0m\u001b[0;34m\u001b[0m\u001b[0m\n",
            "\u001b[0;32m/usr/lib/python3.10/ssl.py\u001b[0m in \u001b[0;36mread\u001b[0;34m(self, len, buffer)\u001b[0m\n\u001b[1;32m   1159\u001b[0m                 \u001b[0;32mreturn\u001b[0m \u001b[0mself\u001b[0m\u001b[0;34m.\u001b[0m\u001b[0m_sslobj\u001b[0m\u001b[0;34m.\u001b[0m\u001b[0mread\u001b[0m\u001b[0;34m(\u001b[0m\u001b[0mlen\u001b[0m\u001b[0;34m,\u001b[0m \u001b[0mbuffer\u001b[0m\u001b[0;34m)\u001b[0m\u001b[0;34m\u001b[0m\u001b[0;34m\u001b[0m\u001b[0m\n\u001b[1;32m   1160\u001b[0m             \u001b[0;32melse\u001b[0m\u001b[0;34m:\u001b[0m\u001b[0;34m\u001b[0m\u001b[0;34m\u001b[0m\u001b[0m\n\u001b[0;32m-> 1161\u001b[0;31m                 \u001b[0;32mreturn\u001b[0m \u001b[0mself\u001b[0m\u001b[0;34m.\u001b[0m\u001b[0m_sslobj\u001b[0m\u001b[0;34m.\u001b[0m\u001b[0mread\u001b[0m\u001b[0;34m(\u001b[0m\u001b[0mlen\u001b[0m\u001b[0;34m)\u001b[0m\u001b[0;34m\u001b[0m\u001b[0;34m\u001b[0m\u001b[0m\n\u001b[0m\u001b[1;32m   1162\u001b[0m         \u001b[0;32mexcept\u001b[0m \u001b[0mSSLError\u001b[0m \u001b[0;32mas\u001b[0m \u001b[0mx\u001b[0m\u001b[0;34m:\u001b[0m\u001b[0;34m\u001b[0m\u001b[0;34m\u001b[0m\u001b[0m\n\u001b[1;32m   1163\u001b[0m             \u001b[0;32mif\u001b[0m \u001b[0mx\u001b[0m\u001b[0;34m.\u001b[0m\u001b[0margs\u001b[0m\u001b[0;34m[\u001b[0m\u001b[0;36m0\u001b[0m\u001b[0;34m]\u001b[0m \u001b[0;34m==\u001b[0m \u001b[0mSSL_ERROR_EOF\u001b[0m \u001b[0;32mand\u001b[0m \u001b[0mself\u001b[0m\u001b[0;34m.\u001b[0m\u001b[0msuppress_ragged_eofs\u001b[0m\u001b[0;34m:\u001b[0m\u001b[0;34m\u001b[0m\u001b[0;34m\u001b[0m\u001b[0m\n",
            "\u001b[0;31mKeyboardInterrupt\u001b[0m: "
          ]
        }
      ],
      "source": [
        "from groq import Groq\n",
        "from google.colab import userdata\n",
        "from time import sleep\n",
        "\n",
        "client = Groq(\n",
        "    api_key=userdata.get(\"GROQ_API_KEY\"),\n",
        ")\n",
        "betterPositiveCompletions = []\n",
        "for j in range(10):\n",
        "  if(j > 0):\n",
        "    sleep(50)\n",
        "  for i in range(30):\n",
        "    chat_completion = client.chat.completions.create(\n",
        "      messages=[\n",
        "          {\n",
        "              \"role\": \"user\",\n",
        "              \"content\": \"Generate 10 random positive statements. Be succient. One sentence per statement. Go straight to the content with no preamble. Structure them like so: STATEMENT:some positive statement.\\nSTATEMENT:some other positive statement\\netc.\",\n",
        "          }\n",
        "      ],\n",
        "      model=\"llama3-70b-8192\",\n",
        "    )\n",
        "    betterPositiveCompletions.append(chat_completion.choices[0].message.content)\n",
        "  print(\"finished batch: \" + str(j) + \" out of 100\")\n",
        "print(betterPositiveCompletions)\n",
        "# persist chatCompletions to pickle\n",
        "parsedPositiveCompletions = []\n",
        "for i in betterPositiveCompletions:\n",
        "  parsedPositiveCompletions += i.split(\"\\nSTATEMENT:\")[1:]\n",
        "print(parsedPositiveCompletions)\n",
        "\n",
        "betterNegativeCompletions = []\n",
        "for j in range(10):\n",
        "  if(j > 0):\n",
        "    sleep(50)\n",
        "  for i in range(30):\n",
        "    chat_completion = client.chat.completions.create(\n",
        "      messages=[\n",
        "          {\n",
        "              \"role\": \"user\",\n",
        "              \"content\": \"Generate 10 random negative statements. Be succient. One sentence per statement. Go straight to the content with no preamble. Structure them like so: STATEMENT:some negative statement.\\nSTATEMENT:some other negative statement\\netc.\",\n",
        "          }\n",
        "      ],\n",
        "      model=\"llama3-70b-8192\",\n",
        "    )\n",
        "    betterNegativeCompletions.append(chat_completion.choices[0].message.content)\n",
        "  print(\"finished batch: \" + str(j) + \" out of 100\")\n",
        "print(betterNegativeCompletions)\n",
        "# persist chatCompletions to pickle\n",
        "parsedNegativeCompletions = []\n",
        "for i in betterNegativeCompletions:\n",
        "  parsedNegativeCompletions += i.split(\"\\nSTATEMENT:\")[1:]\n",
        "print(parsedNegativeCompletions)\n",
        "\n",
        "# persist chatCompletions to pickle\n",
        "import pickle\n",
        "with open('negativeChats2.pkl', 'wb') as f:\n",
        "    pickle.dump(parsedNegativeCompletions, f)\n",
        "\n"
      ]
    },
    {
      "cell_type": "markdown",
      "source": [
        "Then we save the data sets to Drive to prevent needing to rerun the 20min script"
      ],
      "metadata": {
        "id": "S5zY5DnCw9Qu"
      }
    },
    {
      "cell_type": "code",
      "source": [
        "from google.colab import drive\n",
        "drive.mount('/content/drive')"
      ],
      "metadata": {
        "id": "dYtq01yXNwqm"
      },
      "execution_count": null,
      "outputs": []
    },
    {
      "cell_type": "code",
      "source": [
        "with open('/content/drive/MyDrive/negativeChats.pkl', 'wb') as f:\n",
        "    pickle.dump(parsedNegativeCompletions, f)"
      ],
      "metadata": {
        "id": "B_ETtmQlOSPF"
      },
      "execution_count": null,
      "outputs": []
    },
    {
      "cell_type": "code",
      "source": [
        "with open('/content/drive/MyDrive/positiveChats.pkl', 'wb') as f:\n",
        "    pickle.dump(parsedPositiveCompletions, f)"
      ],
      "metadata": {
        "id": "cnVDomIkPM06"
      },
      "execution_count": null,
      "outputs": []
    },
    {
      "cell_type": "markdown",
      "source": [
        "Now I need to convert the data into numerical values"
      ],
      "metadata": {
        "id": "ChxWpz_PxDMo"
      }
    },
    {
      "cell_type": "code",
      "source": [
        "import string\n",
        "import pickle\n",
        "from random import shuffle\n",
        "positiveChats = []\n",
        "negativeChats = []\n",
        "with open('/content/drive/MyDrive/positiveChats.pkl', 'rb') as f:\n",
        "    positiveChats = dict.fromkeys(pickle.load(f)).keys()\n",
        "with open('/content/drive/MyDrive/negativeChats.pkl', 'rb') as f:\n",
        "    negativeChats = dict.fromkeys(pickle.load(f)).keys()\n",
        "print(\"Positive chats: \" + str(len(positiveChats)))\n",
        "print(\"Negative chats: \" + str(len(negativeChats)))\n",
        "labeledPositiveChats = []\n",
        "labeledNegativeChats = []\n",
        "for chat in positiveChats:\n",
        "  labeledPositiveChats.append((chat, \"positive\"))\n",
        "for chat in negativeChats:\n",
        "  labeledNegativeChats.append((chat, \"negative\"))\n",
        "allChats = labeledPositiveChats + labeledNegativeChats\n",
        "shuffle(allChats)\n",
        "wordIndex = {}\n",
        "counter = {\"i\": 0}\n",
        "def convert_string_to_numbers(chat):\n",
        "  numberifiedChat = []\n",
        "  for word in chat.strip().split():\n",
        "    word = word.lower()\n",
        "    punctuation = \"\"\n",
        "    if word[-1] in string.punctuation:\n",
        "      punctuation = word[-1]\n",
        "      if punctuation not in wordIndex:\n",
        "        wordIndex[punctuation] = [counter[\"i\"], 1]\n",
        "        counter[\"i\"] = counter[\"i\"] + 1\n",
        "      else:\n",
        "        wordIndex[punctuation][1] += 1\n",
        "      word = word[:-1]\n",
        "    if len(word) > 0:\n",
        "      if word not in wordIndex:\n",
        "        wordIndex[word] = [counter[\"i\"], 1]\n",
        "        counter[\"i\"] = counter[\"i\"] + 1\n",
        "      else:\n",
        "        wordIndex[word][1] += 1\n",
        "      numberifiedChat.append(wordIndex[word][0])\n",
        "      if punctuation != \"\":\n",
        "        numberifiedChat.append(wordIndex[punctuation][0])\n",
        "  return numberifiedChat\n",
        "\n",
        "print(len(allChats))\n",
        "#filter out duplicative chats\n",
        "chatsConvertedToNumbers = []\n",
        "for (chat, sentiment) in allChats:\n",
        "  numberifiedChat = convert_string_to_numbers(chat)\n",
        "  if(len(numberifiedChat) < 21):\n",
        "    chatsConvertedToNumbers.append((numberifiedChat, sentiment))\n",
        "wordCount  = len(wordIndex.keys())\n",
        "print(\"word count: \" + str(wordCount))\n",
        "print(\"Cleaned up test sentences: \" + str(len(chatsConvertedToNumbers)))\n",
        "print(allChats[:10])"
      ],
      "metadata": {
        "colab": {
          "base_uri": "https://localhost:8080/"
        },
        "id": "9f2EH7AxQRrs",
        "outputId": "7a86ff2f-b80e-4cf4-98b5-93aa63d356b5"
      },
      "execution_count": null,
      "outputs": [
        {
          "output_type": "stream",
          "name": "stdout",
          "text": [
            "Positive chats: 1722\n",
            "Negative chats: 2278\n",
            "4000\n",
            "word count: 2292\n",
            "Cleaned up test sentences: 3958\n",
            "[('Every experience, no matter how difficult, holds a lesson to be learned.', 'positive'), (\"It's impossible to find a decent parking spot in this city.\", 'negative'), (\" You're not good enough to make it in this competitive industry.\", 'negative'), (\" The doctor's diagnosis was devastating and left me feeling hopeless.\", 'negative'), (\"I'm stuck in a rut with no way out.\", 'negative'), (' You are deserving of love, kindness, and respect - from yourself and others.', 'positive'), (\" I'm too old to make a career change now.\", 'negative'), ('You are loved, you are worthy, and you are enough, just as you are.\\n', 'positive'), (' Today is a brand new day full of exciting possibilities.', 'positive'), (' The team will lose the championship game due to their lack of skill.', 'negative')]\n"
          ]
        }
      ]
    },
    {
      "cell_type": "code",
      "source": [
        "# sort wordIndex by the second entry in each array in the 2d array\n",
        "sortedWordIndex = sorted(wordIndex.items(), key=lambda x: x[1][1], reverse=True)\n",
        "print(sortedWordIndex)\n",
        "#substitute allChats first tuple entry with an array of numbers using the index value\n",
        "for (chat, _) in allChats:\n",
        "  for word in chat.strip().strip(\"\\n\").split():\n",
        "    word = word.lower()\n"
      ],
      "metadata": {
        "colab": {
          "base_uri": "https://localhost:8080/"
        },
        "id": "G92Zi7bQvp11",
        "outputId": "3e53cf15-2a7c-41a1-d16a-6d699d8e5745"
      },
      "execution_count": null,
      "outputs": [
        {
          "output_type": "stream",
          "name": "stdout",
          "text": [
            "[('.', [10, 3936]), ('and', [8, 2097]), ('to', [38, 1643]), ('is', [29, 1487]), (',', [20, 1466]), ('the', [44, 1451]), ('a', [30, 1409]), ('you', [0, 1244]), ('your', [12, 872]), ('are', [1, 783]), ('of', [3, 724]), ('in', [18, 690]), ('my', [27, 577]), ('every', [34, 542]), ('new', [36, 404]), ('no', [76, 395]), ('be', [25, 392]), ('this', [19, 388]), (\"i'm\", [72, 362]), ('life', [28, 352]), ('never', [79, 323]), ('make', [41, 321]), ('i', [53, 296]), ('day', [35, 266]), ('for', [165, 266]), ('world', [21, 264]), ('me', [157, 241]), ('just', [164, 240]), ('can', [61, 236]), ('has', [153, 224]), ('will', [270, 224]), ('with', [6, 206]), ('not', [201, 205]), (\"i'll\", [78, 202]), ('start', [39, 200]), ('matter', [110, 196]), ('how', [111, 195]), ('opportunity', [37, 183]), ('it', [122, 176]), ('from', [197, 173]), ('today', [90, 169]), ('than', [257, 166]), ('always', [168, 164]), ('an', [57, 159]), ('good', [117, 158]), ('chance', [125, 158]), ('enough', [118, 156]), ('so', [22, 155]), ('going', [150, 155]), ('have', [219, 155]), ('that', [82, 154]), ('one', [63, 150]), ('yourself', [132, 150]), ('learn', [126, 144]), ('all', [214, 142]), ('unique', [13, 134]), ('fresh', [40, 132]), ('dreams', [178, 132]), ('experience', [109, 130]), ('power', [254, 126]), ('grow', [127, 125]), ('job', [119, 123]), ('on', [46, 121]), ('stronger', [375, 120]), ('what', [160, 119]), ('love', [87, 115]), ('better', [130, 113]), ('come', [196, 112]), ('about', [143, 111]), ('brings', [124, 110]), ('worth', [194, 110]), (\"it's\", [439, 110]), ('by', [654, 107]), ('full', [134, 106]), ('kindness', [59, 105]), ('out', [248, 104]), ('capable', [2, 101]), ('change', [62, 101]), ('able', [80, 100]), (\"someone's\", [186, 99]), ('time', [52, 97]), (\"you're\", [329, 96]), ('achieving', [4, 95]), ('stuck', [73, 94]), ('happiness', [89, 91]), ('everything', [170, 90]), ('think', [161, 89]), ('complete', [204, 89]), ('believe', [145, 87]), ('ever', [154, 87]), ('people', [163, 86]), ('mistake', [320, 86]), ('failure', [205, 85]), ('best', [403, 85]), ('up', [24, 83]), ('find', [85, 83]), ('or', [88, 83]), ('valuable', [458, 80]), ('at', [66, 78]), ('talents', [209, 78]), ('get', [56, 77]), ('been', [225, 77]), ('again', [92, 76]), ('positive', [42, 74]), ('who', [198, 74]), ('difficult', [112, 73]), (\"you'll\", [147, 73]), ('everyone', [206, 73]), ('more', [251, 73]), ('things', [420, 73]), ('smile', [183, 72]), ('sunrise', [123, 71]), ('only', [188, 71]), ('makes', [261, 69]), ('disaster', [275, 69]), ('nothing', [436, 69]), ('city', [149, 68]), ('care', [311, 68]), ('weather', [460, 67]), ('do', [482, 67]), ('work', [11, 65]), ('opportunities', [137, 64]), ('step', [176, 64]), ('as', [199, 63]), ('end', [466, 63]), ('hard', [9, 62]), ('brand', [91, 62]), ('!', [213, 61]), ('policy', [322, 61]), ('others', [338, 61]), ('way', [490, 61]), ('anything', [94, 59]), ('any', [358, 58]), ('something', [362, 58]), ('them', [515, 58]), ('try', [54, 57]), ('brighten', [185, 57]), ('difference', [266, 57]), ('cares', [142, 56]), ('waste', [432, 56]), ('create', [507, 56]), ('possibilities', [136, 55]), ('obstacle', [495, 55]), ('small', [64, 54]), ('value', [195, 54]), ('place', [292, 54]), ('within', [305, 54]), ('succeed', [368, 54]), ('future', [379, 54]), ('overcome', [496, 54]), ('perspective', [15, 52]), ('around', [297, 52]), ('even', [343, 52]), ('dead-end', [74, 51]), ('disappointment', [520, 51]), ('off', [830, 51]), ('anew', [133, 50]), ('relationships', [240, 50]), ('doing', [360, 50]), ('completely', [69, 49]), ('total', [519, 49]), ('waiting', [138, 48]), ('their', [191, 48]), ('amazing', [602, 48]), ('compassion', [60, 47]), ('entire', [430, 47]), ('company', [469, 47]), ('growth', [187, 46]), ('person', [200, 46]), ('goals', [523, 46]), ('mistakes', [562, 46]), ('terrible', [683, 46]), ('true', [86, 45]), ('truly', [155, 45]), ('relationship', [224, 44]), ('traffic', [235, 44]), ('skills', [499, 44]), ('too', [598, 44]), ('contagious', [184, 42]), ('achieve', [298, 42]), ('success', [605, 42]), ('boss', [442, 41]), ('respect', [843, 41]), (\"don't\", [239, 40]), ('alone', [271, 40]), ('restaurant', [428, 40]), ('worthy', [494, 40]), ('afford', [81, 39]), (\"i've\", [560, 39]), ('impact', [93, 38]), ('lesson', [115, 38]), ('loved', [156, 38]), ('know', [215, 38]), ('fail', [349, 38]), ('was', [391, 38]), ('challenging', [424, 38]), ('deserving', [354, 37]), ('smart', [367, 37]), ('wiser', [497, 37]), ('take', [645, 37]), ('due', [49, 36]), ('escape', [77, 36]), ('making', [101, 36]), ('those', [315, 36]), ('yet', [547, 36]), ('needed', [17, 35]), ('because', [335, 35]), ('touch', [475, 35]), ('happens', [622, 35]), ('endless', [135, 34]), ('challenge', [327, 34]), ('asset', [582, 34]), ('rut', [596, 34]), ('happen', [807, 34]), ('gift', [116, 33]), ('great', [256, 33]), (\"can't\", [394, 33]), ('made', [408, 33]), ('project', [431, 33]), ('economy', [45, 32]), ('choose', [121, 32]), ('abilities', [146, 32]), ('doomed', [241, 32]), ('forever', [247, 32]), ('proud', [363, 32]), ('toxic', [448, 32]), ('want', [840, 32]), ('greatness', [5, 31]), ('feel', [267, 31]), ('presence', [296, 31]), ('become', [321, 31]), ('favorite', [427, 31]), ('late', [534, 31]), ('hope', [553, 31]), ('towards', [631, 31]), ('pay', [829, 31]), ('hopeless', [97, 30]), ('down', [151, 30]), ('never-ending', [179, 30]), ('but', [208, 30]), ('reach', [306, 30]), ('closer', [529, 30]), ('past', [868, 30]), ('own', [192, 29]), ('progress', [234, 29]), (\"that's\", [361, 29]), ('through', [376, 29]), ('reality', [574, 29]), ('defined', [653, 29]), ('miserable', [732, 29]), ('existence', [846, 29]), ('changes', [43, 28]), ('holds', [113, 28]), ('forward', [232, 28]), ('yesterday', [258, 28]), ('strengths', [299, 28]), ('food', [455, 28]), ('invaluable', [581, 28]), ('week', [589, 28]), ('into', [129, 27]), (\"there's\", [400, 27]), ('right', [438, 27]), ('lives', [451, 27]), ('forecast', [672, 27]), ('light', [404, 26]), ('pointless', [618, 26]), ('big', [854, 26]), ('nobody', [140, 25]), ('against', [346, 25]), ('room', [405, 25]), ('%', [767, 25]), (\"company's\", [793, 25]), ('bad', [889, 25]), ('mind', [96, 24]), ('face', [328, 24]), ('anyone', [483, 24]), ('struggle', [765, 24]), ('set', [95, 23]), ('most', [162, 23]), ('impossible', [262, 23]), (\"city's\", [406, 23]), ('ruin', [461, 23]), ('our', [462, 23]), ('beautiful', [656, 23]), ('turns', [947, 23]), ('cycle', [180, 22]), ('got', [253, 22]), ('themselves', [366, 22]), ('bleak', [399, 22]), ('dust', [477, 22]), ('comes', [757, 22]), ('seem', [920, 22]), ('smiling', [1102, 22]), ('happy', [173, 21]), ('health', [411, 21]), ('real', [516, 21]), ('special', [641, 21]), ('now', [925, 21]), ('poor', [1081, 21]), ('being', [68, 20]), ('needs', [71, 20]), ('choice', [120, 20]), ('much', [249, 20]), ('valued', [493, 20]), ('resilient', [498, 20]), ('joy', [504, 20]), ('rain', [674, 20]), ('voice', [14, 19]), (\"team's\", [99, 19]), ('friends', [190, 19]), (\"you've\", [252, 19]), ('cruel', [290, 19]), ('universe', [333, 19]), ('purpose', [511, 19]), ('illusion', [554, 19]), ('keep', [555, 19]), ('if', [713, 19]), ('trapped', [730, 19]), ('debt', [834, 19]), ('eventually', [995, 19]), ('lining', [1106, 19]), ('chances', [100, 18]), ('after', [105, 18]), ('version', [131, 18]), ('wrong', [172, 18]), ('back', [244, 18]), ('employee', [325, 18]), ('team', [339, 18]), ('they', [389, 18]), ('sick', [413, 18]), ('go', [471, 18]), ('recover', [563, 18]), ('like', [595, 18]), ('career', [601, 18]), ('bankruptcy', [638, 18]), ('amount', [709, 18]), ('–', [844, 18]), ('plagued', [873, 18]), ('heart', [1094, 18]), ('cloud', [1104, 18]), ('really', [141, 17]), ('tomorrow', [246, 17]), ('unfair', [291, 17]), ('there', [307, 17]), ('learning', [414, 17]), ('cut', [548, 17]), ('ends', [573, 17]), ('problems', [590, 17]), ('leap', [646, 17]), ('resilience', [655, 17]), ('react', [770, 17]), ('promise', [792, 17]), ('selfish', [801, 17]), ('may', [919, 17]), ('silver', [1105, 17]), ('brink', [47, 16]), ('feelings', [144, 16]), ('offer', [250, 16]), ('hate', [351, 16]), ('trying', [398, 16]), ('well-being', [450, 16]), ('dirty', [642, 16]), ('looks', [731, 16]), ('challenges', [749, 16]), ('strong', [857, 16]), ('financial', [1101, 16]), ('severe', [1258, 16]), ('incredibly', [1324, 16]), ('determination', [7, 15]), ('meaningless', [98, 15]), ('goes', [171, 15]), ('believing', [174, 15]), ('potential', [302, 15]), ('led', [323, 15]), ('here', [353, 15]), ('stupid', [393, 15]), ('strength', [491, 15]), ('moment', [532, 15]), ('successful', [633, 15]), ('uniqueness', [640, 15]), ('far', [679, 15]), ('trust', [744, 15]), ('inherently', [800, 15]), ('crime', [808, 15]), ('another', [855, 15]), ('incompetent', [1033, 15]), ('teaches', [1159, 15]), ('desperately', [16, 14]), ('act', [65, 14]), ('attitude', [255, 14]), ('overpriced', [453, 14]), ('brighter', [508, 14]), ('lack', [539, 14]), ('appreciated', [597, 14]), ('over', [600, 14]), ('braver', [606, 14]), ('destined', [607, 14]), ('am', [629, 14]), ('faith', [647, 14]), ('away', [667, 14]), ('cold', [669, 14]), ('decision', [722, 14]), ('system', [956, 14]), ('starts', [976, 14]), ('need', [985, 14]), ('lead', [988, 14]), ('first', [175, 13]), ('without', [279, 13]), ('insignificant', [330, 13]), ('living', [352, 13]), ('dream', [364, 13]), ('worse', [441, 13]), ('bankrupt', [472, 13]), ('positivity', [527, 13]), ('each', [530, 13]), ('help', [551, 13]), ('many', [561, 13]), ('disgusting', [611, 13]), ('anyway', [616, 13]), ('watch', [648, 13]), ('when', [658, 13]), ('days', [726, 13]), ('accomplish', [815, 13]), ('overcoming', [907, 13]), ('weeks', [1018, 13]), ('tired', [1040, 13]), ('mess', [1343, 13]), ('seized', [139, 12]), ('significant', [231, 12]), ('car', [371, 12]), ('ahead', [418, 12]), ('getting', [440, 12]), ('turn', [476, 12]), ('depressing', [479, 12]), ('nightmare', [514, 12]), ('family', [521, 12]), ('passing', [531, 12]), ('worst', [533, 12]), ('disappointed', [558, 12]), ('show', [613, 12]), ('beauty', [710, 12]), ('meet', [735, 12]), ('house', [779, 12]), ('long', [841, 12]), ('devastating', [970, 12]), ('gratitude', [977, 12]), ('money', [1002, 12]), ('single', [1068, 12]), ('acts', [1137, 12]), ('identity', [1140, 12]), ('myself', [1242, 12]), ('unstoppable', [148, 11]), ('give', [167, 11]), ('misery', [181, 11]), ('corrupt', [309, 11]), ('its', [312, 11]), ('burden', [314, 11]), ('we', [422, 11]), ('seems', [437, 11]), ('lessons', [459, 11]), ('profound', [557, 11]), ('old', [599, 11]), ('morning', [612, 11]), ('adventure', [657, 11]), ('point', [668, 11]), ('weekend', [733, 11]), ('stock', [737, 11]), ('us', [747, 11]), ('coffee', [761, 11]), ('10', [768, 11]), ('90', [769, 11]), ('journey', [785, 11]), ('chasing', [894, 11]), ('smartphone', [897, 11]), ('dark', [905, 11]), ('corruption', [935, 11]), (\"restaurant's\", [936, 11]), ('path', [1008, 11]), ('thing', [1014, 11]), ('would', [1042, 11]), ('uncaring', [1073, 11]), ('absolutely', [1144, 11]), ('series', [31, 10]), ('town', [75, 10]), ('energy', [317, 10]), ('championship', [341, 10]), ('side', [373, 10]), ('useless', [392, 10]), ('heartbreak', [467, 10]), ('bring', [502, 10]), ('let', [627, 10]), ('failed', [634, 10]), ('advancement', [652, 10]), ('fix', [707, 10]), ('wonder', [711, 10]), ('fall', [790, 10]), ('short', [791, 10]), ('diagnosis', [822, 10]), ('beyond', [886, 10]), (\"we're\", [1034, 10]), ('celebrate', [1111, 10]), ('forgive', [1136, 10]), ('effort', [1143, 10]), ('space', [1213, 10]), ('management', [1214, 10]), ('unforgiving', [1250, 10]), ('possible', [1307, 10]), ('failures', [32, 9]), ('game', [84, 9]), ('still', [233, 9]), ('fighting', [238, 9]), (\"doesn't\", [310, 9]), ('draining', [316, 9]), ('-', [355, 9]), ('', [356, 9]), ('situation', [359, 9]), ('failing', [386, 9]), ('decisions', [396, 9]), ('improve', [412, 9]), ('nowhere', [449, 9]), ('despair', [468, 9]), ('next', [473, 9]), ('year', [481, 9]), ('spread', [526, 9]), ('months', [571, 9]), ('lost', [584, 9]), ('rainy', [587, 9]), ('stepping', [603, 9]), ('same', [609, 9]), ('deserve', [686, 9]), ('pretending', [694, 9]), ('industry', [721, 9]), ('him', [729, 9]), ('student', [832, 9]), ('spirit', [880, 9]), ('matters', [881, 9]), ('repair', [887, 9]), ('extremely', [908, 9]), ('say', [923, 9]), ('mood', [934, 9]), ('anxious', [951, 9]), ('amazed', [958, 9]), ('hates', [1024, 9]), ('contribution', [1026, 9]), ('feeling', [1041, 9]), ('bright', [1160, 9]), ('latest', [1278, 9]), ('precious', [1304, 9]), ('incredible', [1354, 9]), ('efforts', [1575, 9]), ('disappointments', [33, 8]), ('partner', [67, 8]), ('thrive', [128, 8]), ('opinions', [158, 8]), ('pain', [182, 8]), ('left', [276, 8]), ('noisy', [294, 8]), ('resources', [318, 8]), ('morale', [326, 8]), ('speck', [331, 8]), ('dump', [350, 8]), ('exam', [369, 8]), ('tough', [377, 8]), ('reason', [401, 8]), ('plans', [464, 8]), ('quarter', [474, 8]), ('listens', [552, 8]), ('hotel', [564, 8]), ('understands', [585, 8]), ('else', [586, 8]), ('ruining', [588, 8]), ('greatest', [591, 8]), ('taking', [670, 8]), ('unhappy', [704, 8]), ('friend', [736, 8]), ('market', [738, 8]), ('college', [745, 8]), ('bed', [766, 8]), ('battery', [774, 8]), ('customer', [794, 8]), ('service', [795, 8]), ('prospects', [856, 8]), ('software', [953, 8]), ('deeply', [999, 8]), ('smarter', [1000, 8]), ('present', [1092, 8]), ('understand', [1128, 8]), ('concert', [1139, 8]), ('awful', [1145, 8]), ('infrastructure', [1155, 8]), ('crumbling', [1156, 8]), ('politicians', [1232, 8]), ('accomplishment', [1236, 8]), ('environment', [1244, 8]), ('where', [1251, 8]), ('loans', [1444, 8]), ('likes', [1467, 8]), ('live', [1665, 8]), ('constant', [1775, 8]), ('slim', [103, 7]), ('none', [104, 7]), ('shining', [211, 7]), (\"politician's\", [216, 7]), ('behind', [243, 7]), ('anxiety', [260, 7]), ('neighbors', [293, 7]), ('inconsiderate', [295, 7]), ('broke', [372, 7]), ('times', [378, 7]), (\"she's\", [381, 7]), ('surprises', [415, 7]), ('story', [506, 7]), ('talented', [522, 7]), ('wanted', [537, 7]), ('taken', [541, 7]), ('infested', [566, 7]), ('bugs', [567, 7]), ('stone', [604, 7]), ('meeting', [619, 7]), ('verge', [637, 7]), ('utterly', [650, 7]), ('setback', [681, 7]), ('students', [701, 7]), ('apart', [706, 7]), ('haunt', [708, 7]), ('widespread', [718, 7]), ('plummeted', [739, 7]), ('lasting', [776, 7]), ('toughest', [804, 7]), (\"doctor's\", [821, 7]), ('harder', [839, 7]), ('deadline', [910, 7]), ('heartache', [932, 7]), ('inspire', [943, 7]), ('fulfillment', [959, 7]), ('kind', [961, 7]), ('surrounded', [980, 7]), ('focus', [1045, 7]), ('huge', [1061, 7]), ('sight', [1112, 7]), ('yours', [1161, 7]), ('should', [1170, 7]), ('learned', [1231, 7]), ('predicts', [1257, 7]), ('fleeting', [1302, 7]), ('bleaker', [1338, 7]), ('effect', [1404, 7]), ('beginning', [1535, 7]), ('decent', [1678, 7]), ('exactly', [1689, 7]), ('lifestyle', [1692, 7]), ('neighborhood', [1790, 7]), ('exercise', [55, 6]), ('playoffs', [102, 6]), ('loss', [108, 6]), ('wildest', [177, 6]), ('external', [202, 6]), ('gifts', [210, 6]), ('hit', [220, 6]), ('steps', [245, 6]), ('wants', [347, 6]), ('air', [409, 6]), ('phone', [433, 6]), ('outdoor', [463, 6]), ('season', [480, 6]), ('downhill', [485, 6]), ('fast', [486, 6]), ('smiles', [524, 6]), ('breathe', [535, 6]), ('ground', [570, 6]), ('before', [572, 6]), ('sports', [583, 6]), ('boring', [617, 6]), ('cancelled', [621, 6]), ('polluted', [643, 6]), ('conspire', [649, 6]), ('field', [671, 6]), ('says', [673, 6]), ('passions', [675, 6]), (\"life's\", [748, 6]), ('tastes', [762, 6]), ('regret', [764, 6]), ('takes', [787, 6]), ('seriously', [789, 6]), ('perseverance', [802, 6]), ('carry', [803, 6]), ('rate', [809, 6]), ('crushing', [831, 6]), ('prices', [838, 6]), ('met', [896, 6]), ('inspection', [937, 6]), ('caused', [955, 6]), ('lasts', [989, 6]), ('lazy', [1007, 6]), ('public', [1009, 6]), ('forgot', [1016, 6]), ('humans', [1057, 6]), ('lose', [1066, 6]), ('broken', [1070, 6]), ('ruined', [1080, 6]), ('quality', [1085, 6]), ('cursed', [1089, 6]), ('calling', [1098, 6]), ('direction', [1103, 6]), ('use', [1116, 6]), ('improvement', [1118, 6]), ('neglect', [1158, 6]), ('causing', [1163, 6]), ('myth', [1217, 6]), ('education', [1240, 6]), ('drought', [1259, 6]), ('month', [1262, 6]), ('untrustworthy', [1265, 6]), ('shows', [1308, 6]), ('possibility', [1309, 6]), ('trusting', [1367, 6]), ('valid', [1399, 6]), ('ripple', [1403, 6]), ('meaning', [1406, 6]), ('creativity', [1418, 6]), ('reports', [1423, 6]), ('looking', [1465, 6]), ('raining', [1498, 6]), ('count', [1499, 6]), ('storm', [1502, 6]), ('dedication', [1520, 6]), ('competitive', [1580, 6]), ('night', [1592, 6]), ('tiny', [1597, 6]), ('already', [1683, 6]), ('fire', [1688, 6]), ('utter', [1779, 6]), ('leave', [2073, 6]), ('collapse', [48, 5]), ('hidden', [114, 5]), ('worthless', [159, 5]), ('lonely', [268, 5]), ('shared', [304, 5]), ('government', [308, 5]), ('why', [342, 5]), ('see', [348, 5]), ('home', [365, 5]), ('uncertain', [380, 5]), ('some', [416, 5]), ('parents', [446, 5]), ('serves', [452, 5]), ('country', [484, 5]), ('throws', [489, 5]), ('surrounding', [501, 5]), ('canvas', [509, 5]), ('highway', [513, 5]), ('negativity', [536, 5]), ('turned', [559, 5]), ('party', [614, 5]), ('tv', [620, 5]), ('anymore', [623, 5]), ('such', [630, 5]), ('attempt', [635, 5]), ('outside', [659, 5]), ('risks', [662, 5]), ('moving', [666, 5]), ('unlocking', [678, 5]), ('explored', [712, 5]), ('shine', [751, 5]), ('frustrated', [752, 5]), ('hours', [778, 5]), ('miserably', [780, 5]), ('parent', [782, 5]), ('ideas', [788, 5]), ('grim', [823, 5]), ('often', [863, 5]), ('rude', [874, 5]), ('two', [901, 5]), ('share', [912, 5]), ('slowly', [928, 5]), ('report', [938, 5]), ('update', [954, 5]), ('community', [968, 5]), ('results', [984, 5]), ('darkest', [997, 5]), ('corner', [1023, 5]), ('shift', [1044, 5]), ('support', [1055, 5]), ('destroying', [1058, 5]), ('business', [1079, 5]), ('luck', [1090, 5]), ('years', [1157, 5]), ('signs', [1212, 5]), ('test', [1272, 5]), ('reputation', [1275, 5]), ('scandal', [1279, 5]), ('water', [1298, 5]), ('fantasies', [1303, 5]), ('ability', [1319, 5]), ('powerful', [1320, 5]), ('empathy', [1339, 5]), ('someone', [1344, 5]), ('third', [1355, 5]), (\"they're\", [1388, 5]), ('illness', [1441, 5]), ('had', [1474, 5]), ('his', [1489, 5]), ('jobs', [1512, 5]), ('marks', [1534, 5]), ('suffering', [1536, 5]), ('unsupportive', [1568, 5]), ('soon', [1634, 5]), ('ash', [1690, 5]), ('received', [1795, 5]), ('last', [106, 4]), ('gain', [193, 4]), ('knows', [207, 4]), ('investment', [229, 4]), ('natural', [274, 4]), ('\"', [284, 4]), ('weaknesses', [301, 4]), ('promotion', [319, 4]), ('decrease', [324, 4]), ('bother', [344, 4]), ('road', [374, 4]), ('wasting', [397, 4]), ('moments', [417, 4]), ('were', [447, 4]), ('teach', [457, 4]), ('wherever', [528, 4]), ('starting', [538, 4]), ('sleep', [540, 4]), ('serious', [542, 4]), ('limitless', [546, 4]), ('clueless', [549, 4]), ('shaky', [569, 4]), ('backward', [576, 4]), (\"patient's\", [577, 4]), ('terminal', [579, 4]), ('magic', [592, 4]), ('repeat', [608, 4]), ('rest', [610, 4]), ('rigged', [663, 4]), ('discover', [696, 4]), ('leaving', [700, 4]), ('unprepared', [702, 4]), ('stay', [714, 4]), ('skill', [734, 4]), ('math', [753, 4]), ('control', [771, 4]), ('aspirations', [772, 4]), (\"smartphone's\", [773, 4]), ('self-improvement', [786, 4]), ('unhelpful', [796, 4]), ('product', [818, 4]), ('futility', [842, 4]), ('very', [845, 4]), ('said', [849, 4]), ('fingers', [862, 4]), ('grand', [882, 4]), ('meaningful', [885, 4]), ('wisdom', [893, 4]), ('persevere', [913, 4]), ('boredom', [914, 4]), ('prison', [926, 4]), ('key', [927, 4]), ('vibrant', [942, 4]), ('illusions', [944, 4]), ('effects', [971, 4]), ('resulted', [978, 4]), ('blip', [991, 4]), ('radar', [992, 4]), ('human', [993, 4]), ('exciting', [1021, 4]), ('giving', [1036, 4]), ('goal', [1056, 4]), ('consistently', [1063, 4]), ('outlook', [1072, 4]), ('possess', [1074, 4]), ('leadership', [1082, 4]), ('hazardous', [1086, 4]), ('unexpected', [1107, 4]), ('fake', [1122, 4]), ('keeps', [1151, 4]), ('unqualified', [1162, 4]), ('unmotivated', [1168, 4]), ('could', [1175, 4]), ('masterpiece', [1181, 4]), ('plummeting', [1182, 4]), ('computer', [1183, 4]), ('decline', [1190, 4]), ('futile', [1198, 4]), ('red', [1202, 4]), ('tape', [1203, 4]), ('coming', [1210, 4]), ('catastrophic', [1222, 4]), ('abandon', [1225, 4]), ('working', [1226, 4]), ('taught', [1230, 4]), (\"anyone's\", [1241, 4]), ('environmental', [1249, 4]), (\"he's\", [1282, 4]), ('loud', [1297, 4]), ('profits', [1331, 4]), ('shut', [1337, 4]), ('closed', [1342, 4]), ('current', [1356, 4]), ('hold', [1357, 4]), ('totally', [1361, 4]), ('permanently', [1368, 4]), ('hurricane', [1370, 4]), ('circumstances', [1384, 4]), ('deteriorating', [1393, 4]), ('realize', [1415, 4]), ('indicate', [1424, 4]), ('deserves', [1453, 4]), ('unfold', [1459, 4]), ('recession', [1466, 4]), ('sunset', [1533, 4]), ('weight', [1584, 4]), ('including', [1671, 4]), ('uplift', [1672, 4]), ('qualities', [1674, 4]), ('pushing', [1684, 4]), ('look', [1691, 4]), ('instant', [1694, 4]), ('inevitably', [1716, 4]), ('imagination', [1719, 4]), ('doctor', [1750, 4]), (\"isn't\", [1868, 4]), ('crime-ridden', [2005, 4]), ('notice', [2010, 4]), ('heard', [26, 3]), ('pretend', [189, 3]), ('sources', [203, 3]), ('star', [212, 3]), ('all-time', [221, 3]), ('low', [222, 3]), ('once-thriving', [223, 3]), ('talking', [242, 3]), ('social', [264, 3]), ('thousands', [277, 3]), ('so-called', [283, 3]), ('win', [340, 3]), ('response', [357, 3]), ('her', [383, 3]), ('risk', [385, 3]), ('trusted', [395, 3]), ('pollution', [407, 3]), ('sometimes', [419, 3]), ('found', [426, 3]), ('closing', [429, 3]), ('heartless', [443, 3]), ('ultimately', [465, 3]), ('likely', [470, 3]), ('winter', [478, 3]), ('increasingly', [487, 3]), ('contributions', [500, 3]), ('immense', [503, 3]), ('rewrite', [505, 3]), ('mental', [544, 3]), ('filthy', [565, 3]), ('condition', [578, 3]), ('created', [593, 3]), ('ticket', [625, 3]), ('somehow', [632, 3]), ('believes', [644, 3]), ('little', [664, 3]), ('interests', [676, 3]), ('keys', [677, 3]), ('having', [682, 3]), ('outdated', [698, 3]), ('falling', [705, 3]), ('discovered', [717, 3]), ('layoffs', [719, 3]), ('pass', [725, 3]), ('guides', [746, 3]), ('problem', [754, 3]), ('solve', [755, 3]), ('satisfied', [756, 3]), ('poverty', [760, 3]), ('atrocious', [775, 3]), ('few', [777, 3]), ('handle', [805, 3]), ('whatever', [806, 3]), ('highly', [820, 3]), ('interesting', [847, 3]), ('damage', [850, 3]), ('slips', [861, 3]), ('shapes', [864, 3]), ('define', [867, 3]), ('scheme', [883, 3]), ('20', [884, 3]), ('grades', [888, 3]), ('neighbor', [895, 3]), ('increase', [903, 3]), ('spreading', [904, 3]), ('recipe', [931, 3]), ('dysfunctional', [960, 3]), ('okay', [966, 3]), ('prioritize', [967, 3]), ('revealed', [972, 3]), ('aggressive', [973, 3]), ('abundance', [981, 3]), ('communication', [982, 3]), ('mere', [990, 3]), ('wasted', [998, 3]), ('spilled', [1003, 3]), ('shirt', [1005, 3]), ('pursuing', [1006, 3]), ('crippling', [1019, 3]), ('adventures', [1020, 3]), ('reviews', [1027, 3]), ('ugly', [1031, 3]), ('avoid', [1037, 3]), ('felt', [1043, 3]), ('budget', [1051, 3]), ('planet', [1059, 3]), ('stop', [1060, 3]), ('underseasoned', [1064, 3]), ('achievement', [1067, 3]), ('desire', [1076, 3]), ('heavy', [1099, 3]), ('arts', [1113, 3]), ('slipping', [1117, 3]), ('garbage', [1126, 3]), ('fifth', [1131, 3]), ('pays', [1141, 3]), ('fails', [1147, 3]), ('birthday', [1150, 3]), ('shambles', [1152, 3]), ('whole', [1153, 3]), ('creating', [1180, 3]), ('almost', [1184, 3]), ('unusable', [1185, 3]), ('survive', [1187, 3]), ('soul-sucking', [1189, 3]), ('counts', [1195, 3]), ('bureaucracy', [1201, 3]), ('strangers', [1207, 3]), ('expected', [1208, 3]), ('unbearable', [1218, 3]), ('hurt', [1219, 3]), ('miracles', [1224, 3]), ('motivation', [1239, 3]), ('quitting', [1253, 3]), ('did', [1254, 3]), ('gloomy', [1270, 3]), ('advantage', [1271, 3]), ('review', [1280, 3]), ('scathing', [1281, 3]), ('brutal', [1295, 3]), ('supply', [1299, 3]), ('regardless', [1306, 3]), ('horrific', [1322, 3]), ('pipe', [1326, 3]), ('flawed', [1329, 3]), ('put', [1345, 3]), ('unsafe', [1350, 3]), ('source', [1364, 3]), ('pouring', [1365, 3]), ('idea', [1387, 3]), ('buy', [1389, 3]), ('commute', [1398, 3]), ('loser', [1405, 3]), ('?', [1413, 3]), ('itself', [1417, 3]), ('region', [1437, 3]), ('high', [1438, 3]), ('lacks', [1442, 3]), ('lifetime', [1445, 3]), ('losing', [1454, 3]), ('inefficiency', [1455, 3]), ('warning', [1458, 3]), ('betrayal', [1471, 3]), ('lies', [1472, 3]), ('helps', [1482, 3]), ('ways', [1490, 3]), ('bureaucratic', [1518, 3]), ('prognosis', [1538, 3]), (\"we'll\", [1546, 3]), ('he', [1549, 3]), ('hired', [1555, 3]), ('destroyed', [1563, 3]), ('parking', [1567, 3]), ('achievable', [1569, 3]), ('foolish', [1578, 3]), ('medication', [1582, 3]), ('music', [1591, 3]), ('chapter', [1601, 3]), ('trusts', [1608, 3]), ('scandals', [1616, 3]), ('horrible', [1627, 3]), ('facing', [1630, 3]), ('decades', [1632, 3]), ('constantly', [1636, 3]), ('rapidly', [1644, 3]), ('other', [1655, 3]), ('flight', [1675, 3]), ('delayed', [1676, 3]), ('unfulfilling', [1679, 3]), ('persistence', [1695, 3]), ('reaction', [1721, 3]), ('survived', [1740, 3]), ('top', [1748, 3]), ('solved', [1754, 3]), ('slow', [1789, 3]), ('essential', [1799, 3]), ('jams', [1812, 3]), ('winning', [1824, 3]), ('move', [1839, 3]), ('headed', [1843, 3]), ('transform', [1862, 3]), ('loves', [1875, 3]), ('employees', [1944, 3]), ('blame', [1949, 3]), ('darkness', [1963, 3]), ('crushed', [1987, 3]), ('ashes', [2002, 3]), ('news', [2033, 3]), ('self-care', [2045, 3]), ('fears', [2050, 3]), ('choices', [2084, 3]), ('hell', [2133, 3]), ('speak', [23, 2]), ('political', [50, 2]), ('injury', [58, 2]), ('unresponsive', [70, 2]), (\"night's\", [107, 2]), ('excuse', [166, 2]), ('driving', [236, 2]), ('insane', [237, 2]), ('chronic', [259, 2]), ('consume', [273, 2]), ('safety', [288, 2]), ('rich', [334, 2]), ('ridiculously', [370, 2]), ('struggling', [382, 2]), ('ones', [421, 2]), ('provides', [425, 2]), ('charger', [435, 2]), ('tyrant', [444, 2]), ('tasteless', [454, 2]), ('abusive', [488, 2]), ('paint', [510, 2]), ('passion', [512, 2]), ('virtually', [517, 2]), ('nonexistent', [518, 2]), (';', [525, 2]), ('toll', [543, 2]), ('unloved', [545, 2]), ('run', [550, 2]), ('actually', [575, 2]), ('tonight', [615, 2]), ('close', [628, 2]), ('together', [636, 2]), ('cannot', [651, 2]), ('guy', [665, 2]), ('achieved', [680, 2]), ('gives', [684, 2]), ('recognition', [685, 2]), ('account', [688, 2]), ('complaining', [692, 2]), ('pity', [695, 2]), (\"school's\", [697, 2]), ('destiny', [703, 2]), ('across', [720, 2]), ('marrying', [728, 2]), ('investors', [742, 2]), ('stand', [758, 2]), ('dirt', [763, 2]), ('kids', [783, 2]), ('vacation', [784, 2]), ('available', [798, 2]), ('anywhere', [799, 2]), ('skyrocketed', [810, 2]), ('since', [811, 2]), ('office', [814, 2]), ('treatment', [824, 2]), ('options', [825, 2]), ('limited', [826, 2]), ('rip-off', [828, 2]), ('irrelevant', [835, 2]), ('shop', [836, 2]), ('raised', [837, 2]), ('irreparable', [853, 2]), ('planning', [870, 2]), ('overweight', [871, 2]), ('unhealthy', [872, 2]), ('drivers', [875, 2]), ('play', [876, 2]), ('guitar', [877, 2]), ('machine', [878, 2]), ('motions', [879, 2]), ('might', [890, 2]), ('leads', [892, 2]), ('riddled', [898, 2]), ('matched', [900, 2]), ('rent', [902, 2]), ('unrealistic', [909, 2]), ('afraid', [916, 2]), ('cloudy', [917, 2]), ('sky', [918, 2]), ('bored', [924, 2]), ('soul', [930, 2]), ('jam', [946, 2]), ('probably', [952, 2]), (\"teacher's\", [962, 2]), ('reeling', [969, 2]), ('cancer', [975, 2]), ('course', [987, 2]), ('transportation', [1010, 2]), ('chosen', [1013, 2]), ('experiences', [1022, 2]), ('overwhelmingly', [1028, 2]), ('negative', [1029, 2]), ('congestion', [1030, 2]), ('dealing', [1032, 2]), ('later', [1038, 2]), ('school', [1048, 2]), ('hundreds', [1053, 2]), ('economic', [1071, 2]), ('shape', [1075, 2]), ('talent', [1077, 2]), (\"people's\", [1087, 2]), ('situations', [1088, 2]), ('break', [1091, 2]), ('lighter', [1095, 2]), (\"what's\", [1097, 2]), ('emerge', [1100, 2]), ('savored', [1109, 2]), ('rushed', [1110, 2]), ('breathing', [1114, 2]), ('neck', [1115, 2]), ('filled', [1121, 2]), ('criticism', [1124, 2]), ('heartaches', [1125, 2]), ('falls', [1127, 2]), ('art', [1130, 2]), ('conversation', [1132, 2]), ('screaming', [1134, 2]), ('generosity', [1138, 2]), ('bills', [1142, 2]), ('rampant', [1149, 2]), ('hair', [1167, 2]), ('imagined', [1169, 2]), ('body', [1173, 2]), ('master', [1178, 2]), ('painter', [1179, 2]), ('humanity', [1188, 2]), ('final', [1192, 2]), ('fatal', [1193, 2]), ('courage', [1194, 2]), ('downturn', [1209, 2]), ('unattainable', [1216, 2]), ('wear', [1221, 2]), ('finish', [1223, 2]), ('favor', [1227, 2]), ('stressed', [1233, 2]), ('upcoming', [1234, 2]), ('siblings', [1235, 2]), ('chase', [1246, 2]), ('massive', [1248, 2]), ('consequences', [1255, 2]), ('least', [1261, 2]), ('overwhelmed', [1266, 2]), ('showed', [1273, 2]), ('await', [1285, 2]), ('save', [1291, 2]), ('contaminated', [1300, 2]), ('seams', [1313, 2]), ('twists', [1314, 2]), ('torrential', [1317, 2]), ('tool', [1321, 2]), ('model', [1327, 2]), ('fundamentally', [1328, 2]), ('door', [1334, 2]), ('open', [1335, 2]), ('wake', [1340, 2]), ('age', [1359, 2]), ('awaits', [1360, 2]), ('coast', [1371, 2]), ('stress', [1380, 2]), ('perpetual', [1394, 2]), ('ruins', [1395, 2]), (\"everyone's\", [1396, 2]), ('offers', [1401, 2]), ('incompetence', [1408, 2]), ('overnight', [1410, 2]), ('panic', [1411, 2]), ('unlovable', [1426, 2]), ('rather', [1429, 2]), ('impression', [1430, 2]), ('ongoing', [1431, 2]), ('conflict', [1432, 2]), (\"organization's\", [1447, 2]), ('streak', [1461, 2]), ('proudly', [1464, 2]), ('ups', [1468, 2]), ('downs', [1469, 2]), ('brave', [1483, 2]), ('woke', [1484, 2]), ('conquer', [1488, 2]), ('position', [1493, 2]), ('fulfilled', [1494, 2]), ('aspect', [1495, 2]), ('abysmal', [1497, 2]), ('mark', [1503, 2]), ('words', [1504, 2]), ('becoming', [1507, 2]), ('artist', [1508, 2]), ('exhausted', [1510, 2]), ('frustration', [1517, 2]), ('movie', [1521, 2]), (\"year's\", [1527, 2]), ('critical', [1537, 2]), ('drop', [1540, 2]), ('lived', [1548, 2]), ('rising', [1559, 2]), ('confidence', [1564, 2]), ('holding', [1566, 2]), ('temporary', [1585, 2]), ('realized', [1587, 2]), (\"neighbor's\", [1590, 2]), ('expectations', [1599, 2]), ('stones', [1604, 2]), ('skyrocketing', [1605, 2]), ('strained', [1611, 2]), ('unclear', [1612, 2]), ('drastic', [1617, 2]), ('pockets', [1621, 2]), ('dismal', [1622, 2]), ('performance', [1623, 2]), ('sadness', [1625, 2]), (\"country's\", [1641, 2]), ('critics', [1642, 2]), ('crisis', [1643, 2]), ('debilitating', [1650, 2]), ('memories', [1657, 2]), ('free', [1663, 2]), ('speech', [1664, 2]), ('blow', [1669, 2]), ('addictions', [1673, 2]), ('pawn', [1680, 2]), ('devoid', [1703, 2]), ('solution', [1707, 2]), ('internet', [1708, 2]), ('cuts', [1710, 2]), ('motivated', [1713, 2]), ('manufacturing', [1727, 2]), ('laughter', [1730, 2]), ('healthy', [1732, 2]), ('gem', [1735, 2]), ('apartment', [1738, 2]), ('betrays', [1744, 2]), ('setup', [1745, 2]), ('undergo', [1751, 2]), ('local', [1756, 2]), ('shortage', [1758, 2]), ('medical', [1759, 2]), ('promotions', [1762, 2]), ('fender', [1769, 2]), ('bender', [1770, 2]), ('lunch', [1783, 2]), ('kitchen', [1784, 2]), ('counter', [1785, 2]), ('adapt', [1786, 2]), ('gets', [1787, 2]), ('enthusiasm', [1791, 2]), ('sooner', [1792, 2]), ('accept', [1796, 2]), ('catastrophe', [1797, 2]), ('irreversible', [1802, 2]), ('expect', [1803, 2]), ('accomplishments', [1811, 2]), ('sound', [1817, 2]), ('issues', [1818, 2]), ('sucking', [1822, 2]), ('diet', [1825, 2]), ('recent', [1827, 2]), ('ridiculous', [1831, 2]), ('outcome', [1834, 2]), ('done', [1838, 2]), ('nasty', [1844, 2]), ('word', [1852, 2]), ('grasp', [1857, 2]), ('thunderstorms', [1867, 2]), ('leaves', [1870, 2]), ('unprofessional', [1877, 2]), ('abysmally', [1888, 2]), ('fills', [1895, 2]), ('unproductive', [1900, 2]), ('superpower', [1901, 2]), ('surgery', [1904, 2]), ('row', [1905, 2]), ('productivity', [1910, 2]), ('earnings', [1932, 2]), ('super', [1934, 2]), ('research', [1938, 2]), ('clean', [1953, 2]), ('slate', [1954, 2]), ('empowering', [1955, 2]), ('celebrating', [1956, 2]), ('society', [1967, 2]), ('overwhelming', [1968, 2]), ('forgiveness', [1973, 2]), ('inherent', [1974, 2]), ('micromanaging', [1975, 2]), ('individuality', [1980, 2]), ('crop', [1981, 2]), ('joke', [1982, 2]), ('crashed', [1996, 2]), ('instead', [1998, 2]), ('umbrella', [1999, 2]), ('drowning', [2004, 2]), ('beneath', [2014, 2]), ('paying', [2025, 2]), ('halfway', [2029, 2]), ('wealthy', [2030, 2]), ('disappeared', [2032, 2]), ('frustrating', [2036, 2]), ('disappointing', [2037, 2]), ('grateful', [2042, 2]), ('drifting', [2043, 2]), ('individual', [2055, 2]), ('careers', [2068, 2]), ('levels', [2071, 2]), ('sorry', [2072, 2]), ('lately', [2080, 2]), ('price', [2085, 2]), ('fear', [2089, 2]), ('cook', [2094, 2]), ('dangerous', [2111, 2]), ('inefficient', [2150, 2]), (\"employee's\", [2162, 2]), ('creative', [2172, 2]), ('gone', [2175, 2]), ('sure', [2187, 2]), ('instability', [51, 1]), ('video', [83, 1]), ('drain', [152, 1]), ('ignored', [169, 1]), ('approval', [217, 1]), ('ratings', [218, 1]), ('reduced', [226, 1]), ('bitter', [227, 1]), ('silence', [228, 1]), ('yielded', [230, 1]), ('enjoy', [263, 1]), ('gatherings', [265, 1]), ('isolated', [269, 1]), ('loneliness', [272, 1]), ('homeless', [278, 1]), ('access', [280, 1]), ('basic', [281, 1]), ('necessities', [282, 1]), ('\"reforms', [285, 1]), ('euphemism', [286, 1]), ('gutting', [287, 1]), ('net', [289, 1]), ('outweigh', [300, 1]), ('tapped', [303, 1]), ('citizens', [313, 1]), ('infinite', [332, 1]), (\"they've\", [336, 1]), ('exploited', [337, 1]), ('watching', [345, 1]), ('studies', [384, 1]), ('semester', [387, 1]), ('\"help', [388, 1]), ('offered', [390, 1]), ('optimistic', [402, 1]), ('unbreathable', [410, 1]), ('plan', [423, 1]), ('died', [434, 1]), ('himself', [445, 1]), ('dinner', [456, 1]), ('withstand', [492, 1]), ('complacent', [556, 1]), ('renewal', [568, 1]), ('recovery', [580, 1]), ('torment', [594, 1]), ('speeding', [624, 1]), ('mail', [626, 1]), ('mismanagement', [639, 1]), ('comfort', [660, 1]), ('zone', [661, 1]), ('email', [687, 1]), ('hacked', [689, 1]), ('data', [690, 1]), ('stolen', [691, 1]), ('exhausting', [693, 1]), ('curriculum', [699, 1]), ('focused', [715, 1]), ('determined', [716, 1]), ('different', [723, 1]), ('shall', [724, 1]), ('biggest', [727, 1]), ('wiping', [740, 1]), (\"'\", [741, 1]), ('savings', [743, 1]), ('appreciates', [750, 1]), ('crowd', [759, 1]), ('unlucky', [781, 1]), ('longer', [797, 1]), ('mayor', [812, 1]), ('took', [813, 1]), ('second', [816, 1]), ('beginnings', [817, 1]), ('profit', [819, 1]), ('climb', [827, 1]), ('loan', [833, 1]), ('repairman', [848, 1]), (\"car's\", [851, 1]), ('engine', [852, 1]), ('forgiving', [858, 1]), ('peace', [859, 1]), ('freedom', [860, 1]), ('unapproachable', [865, 1]), ('hundredth', [866, 1]), ('inadequate', [869, 1]), ('graduate', [891, 1]), ('glitches', [899, 1]), ('foreboding', [906, 1]), ('reflects', [911, 1]), ('apathy', [915, 1]), ('sun', [921, 1]), ('somewhere', [922, 1]), ('killing', [929, 1]), ('part', [933, 1]), ('citing', [939, 1]), ('numerous', [940, 1]), ('violations', [941, 1]), ('crush', [945, 1]), ('prove', [948, 1]), ('finds', [949, 1]), ('guilty', [950, 1]), ('crashes', [957, 1]), ('ineffective', [963, 1]), ('teaching', [964, 1]), ('methods', [965, 1]), ('form', [974, 1]), ('fulfill', [979, 1]), ('willingness', [983, 1]), ('retake', [986, 1]), ('history', [994, 1]), ('finals', [996, 1]), ('hobby', [1001, 1]), ('white', [1004, 1]), ('dire', [1011, 1]), ('overhaul', [1012, 1]), ('dead', [1015, 1]), ('dreary', [1017, 1]), ('talks', [1025, 1]), ('compete', [1035, 1]), ('bounce', [1039, 1]), ('shallow', [1046, 1]), ('encounters', [1047, 1]), ('district', [1049, 1]), ('announced', [1050, 1]), ('affect', [1052, 1]), ('teachers', [1054, 1]), ('fight', [1062, 1]), ('guaranteed', [1065, 1]), ('healthcare', [1069, 1]), ('hands', [1078, 1]), ('bothered', [1083, 1]), ('usual', [1084, 1]), ('choosing', [1093, 1]), ('unaware', [1096, 1]), ('places', [1108, 1]), ('media', [1119, 1]), ('feed', [1120, 1]), ('perfect', [1123, 1]), ('appreciate', [1129, 1]), ('in-laws', [1133, 1]), ('match', [1135, 1]), ('awaiting', [1146, 1]), ('purposes', [1148, 1]), ('costly', [1154, 1]), ('harm', [1164, 1]), ('crowded', [1165, 1]), ('smallest', [1166, 1]), ('settle', [1171, 1]), ('less', [1172, 1]), ('wish', [1174, 1]), ('hide', [1176, 1]), ('unemployed', [1177, 1]), ('feels', [1186, 1]), ('driven', [1191, 1]), ('expressing', [1196, 1]), ('write', [1197, 1]), ('yell', [1199, 1]), ('meetings', [1200, 1]), ('adapting', [1204, 1]), ('thriving', [1205, 1]), ('uncertainty', [1206, 1]), ('inspiring', [1211, 1]), ('surrounds', [1215, 1]), ('accessory', [1220, 1]), ('emotions', [1228, 1]), ('mix', [1229, 1]), ('stranded', [1237, 1]), ('inconvenience', [1238, 1]), ('uplifting', [1243, 1]), (\"today's\", [1245, 1]), ('negligence', [1247, 1]), ('strongest', [1252, 1]), ('downsizing', [1256, 1]), ('persist', [1260, 1]), ('accomplished', [1263, 1]), ('worthwhile', [1264, 1]), ('to-do', [1267, 1]), ('list', [1268, 1]), ('badly', [1269, 1]), ('worsening', [1274, 1]), ('severely', [1276, 1]), ('damaged', [1277, 1]), ('investments', [1283, 1]), ('breathtaking', [1284, 1]), ('diversity', [1286, 1]), ('result', [1287, 1]), ('systemic', [1288, 1]), ('racism', [1289, 1]), ('sexism', [1290, 1]), ('naturally', [1292, 1]), ('creatures', [1293, 1]), ('troubling', [1294, 1]), ('payoff', [1296, 1]), ('chemicals', [1301, 1]), ('successes', [1305, 1]), ('mountain', [1310, 1]), ('brush', [1311, 1]), ('stroke', [1312, 1]), ('cure', [1315, 1]), ('disease', [1316, 1]), ('downpour', [1318, 1]), ('glitchy', [1323, 1]), ('informed', [1325, 1]), ('generate', [1330, 1]), ('three', [1332, 1]), ('unheard', [1333, 1]), ('slammed', [1336, 1]), ('self', [1341, 1]), ('streets', [1346, 1]), ('overrun', [1347, 1]), ('litter', [1348, 1]), ('glass', [1349, 1]), ('walk', [1351, 1]), ('manager', [1352, 1]), ('rejected', [1353, 1]), ('thought', [1358, 1]), ('academic', [1362, 1]), ('probation', [1363, 1]), ('wedding', [1366, 1]), ('predicting', [1369, 1]), (\"else's\", [1372, 1]), ('flex', [1373, 1]), ('muscles', [1374, 1]), ('struggles', [1375, 1]), ('transparency', [1376, 1]), ('eroded', [1377, 1]), ('criticizes', [1378, 1]), ('supports', [1379, 1]), ('these', [1381, 1]), ('annoying', [1382, 1]), ('victim', [1383, 1]), ('\"expert', [1385, 1]), ('nonsense', [1386, 1]), ('difficulty', [1390, 1]), ('briefly', [1391, 1]), ('distracted', [1392, 1]), ('daily', [1397, 1]), ('pursuit', [1400, 1]), ('brightly', [1402, 1]), ('whatsoever', [1407, 1]), ('uncovered', [1409, 1]), ('among', [1412, 1]), ('courageous', [1414, 1]), ('generously', [1416, 1]), ('jerk', [1419, 1]), ('enrich', [1420, 1]), ('betrayed', [1421, 1]), ('chore', [1422, 1]), ('steady', [1425, 1]), ('unworthy', [1427, 1]), (\"i'd\", [1428, 1]), ('displaced', [1433, 1]), ('millions', [1434, 1]), ('wreaked', [1435, 1]), ('havoc', [1436, 1]), ('unkind', [1439, 1]), ('potentially', [1440, 1]), ('flavor', [1443, 1]), ('stab', [1446, 1]), ('abuse', [1448, 1]), ('view', [1449, 1]), ('department', [1450, 1]), ('hurdle', [1451, 1]), ('experienced', [1452, 1]), ('definitely', [1456, 1]), ('thunderstorm', [1457, 1]), ('dies', [1460, 1]), ('unexpectedly', [1462, 1]), ('abandoned', [1463, 1]), ('painful', [1470, 1]), ('knew', [1473, 1]), (\"celebrity's\", [1475, 1]), ('tatters', [1476, 1]), ('scandalous', [1477, 1]), ('affair', [1478, 1]), ('exposed', [1479, 1]), ('unfulfilled', [1480, 1]), ('canceled', [1481, 1]), ('missed', [1485, 1]), ('important', [1486, 1]), ('degree', [1487, 1]), ('grossly', [1491, 1]), ('underqualified', [1492, 1]), ('extraordinary', [1496, 1]), ('desperate', [1500, 1]), ('ending', [1501, 1]), ('she', [1505, 1]), ('given', [1506, 1]), ('drained', [1509, 1]), ('quiet', [1511, 1]), ('complex', [1513, 1]), ('questionable', [1514, 1]), ('call', [1515, 1]), ('referee', [1516, 1]), ('infinitely', [1519, 1]), ('predictable', [1522, 1]), ('plot', [1523, 1]), ('score', [1524, 1]), ('respite', [1525, 1]), ('laugh', [1526, 1]), ('resolutions', [1528, 1]), ('blatant', [1529, 1]), ('disregard', [1530, 1]), ('protocols', [1531, 1]), ('accident', [1532, 1]), ('insurance', [1539, 1]), ('pre-existing', [1541, 1]), ('deluding', [1542, 1]), ('ourselves', [1543, 1]), ('stifled', [1544, 1]), ('regression', [1545, 1]), ('instantly', [1547, 1]), ('managing', [1550, 1]), ('finances', [1551, 1]), ('finally', [1552, 1]), ('caught', [1553, 1]), ('festival', [1554, 1]), ('reminder', [1556, 1]), ('continues', [1557, 1]), ('war', [1558, 1]), ('tensions', [1560, 1]), ('neighboring', [1561, 1]), ('nations', [1562, 1]), ('rooms', [1565, 1]), ('dreadful', [1570, 1]), ('rains', [1571, 1]), ('flooding', [1572, 1]), ('sales', [1573, 1]), ('targets', [1574, 1]), ('supported', [1576, 1]), ('guided', [1577, 1]), ('mundane', [1579, 1]), ('allergic', [1581, 1]), ('burdensome', [1583, 1]), ('distraction', [1586, 1]), ('homework', [1588, 1]), ('certification', [1589, 1]), ('shines', [1593, 1]), ('dna', [1594, 1]), ('slam', [1595, 1]), (\"shouldn't\", [1596, 1]), ('minimum', [1598, 1]), ('payment', [1600, 1]), ('minute', [1602, 1]), ('chaotic', [1603, 1]), ('risen', [1606, 1]), ('consecutive', [1607, 1]), ('lied', [1609, 1]), ('colleagues', [1610, 1]), ('salvaged', [1613, 1]), ('intrinsic', [1614, 1]), ('void', [1615, 1]), ('popularity', [1618, 1]), ('absence', [1619, 1]), ('line', [1620, 1]), ('attractive', [1624, 1]), ('furious', [1626, 1]), (\"band's\", [1628, 1]), ('date', [1629, 1]), ('lowest', [1631, 1]), ('bank', [1633, 1]), ('notorious', [1635, 1]), ('self-doubt', [1637, 1]), ('simple', [1638, 1]), ('distract', [1639, 1]), ('exception', [1640, 1]), ('layoff', [1645, 1]), ('announcement', [1646, 1]), ('state', [1647, 1]), ('crooks', [1648, 1]), ('liars', [1649, 1]), ('error', [1651, 1]), ('cosmic', [1652, 1]), ('blunder', [1653, 1]), ('extended', [1654, 1]), ('validation', [1656, 1]), ('thinly', [1658, 1]), ('veiled', [1659, 1]), ('suppress', [1660, 1]), ('dissent', [1661, 1]), ('stifle', [1662, 1]), ('navigate', [1666, 1]), ('aspects', [1667, 1]), ('manage', [1668, 1]), ('flash', [1670, 1]), ('lets', [1677, 1]), ('controlled', [1681, 1]), ('respects', [1682, 1]), ('acceptance', [1685, 1]), ('scary', [1686, 1]), ('permanent', [1687, 1]), ('tolerate', [1693, 1]), ('charge', [1696, 1]), ('specks', [1697, 1]), ('politics', [1698, 1]), ('dishonesty', [1699, 1]), ('effectiveness', [1700, 1]), ('hindered', [1701, 1]), ('indispensable', [1702, 1]), ('addiction', [1704, 1]), ('wide', [1705, 1]), ('hopes', [1706, 1]), ('breeding', [1709, 1]), ('affecting', [1711, 1]), ('concept', [1712, 1]), ('productive', [1714, 1]), ('seen', [1715, 1]), ('tickets', [1717, 1]), ('sold', [1718, 1]), ('innovation', [1720, 1]), ('rise', [1722, 1]), ('above', [1723, 1]), ('immeasurable', [1724, 1]), ('design', [1725, 1]), ('flaws', [1726, 1]), ('defects', [1728, 1]), ('underinvestment', [1729, 1]), ('medicine', [1731, 1]), ('build', [1733, 1]), ('billions', [1734, 1]), ('pathetic', [1736, 1]), ('cramped', [1737, 1]), ('both', [1739, 1]), ('demotivating', [1741, 1]), ('nation', [1742, 1]), ('heading', [1743, 1]), ('rendered', [1746, 1]), ('app', [1747, 1]), ('pursue', [1749, 1]), ('round', [1752, 1]), ('chemotherapy', [1753, 1]), ('discouraging', [1755, 1]), ('hospital', [1757, 1]), ('supplies', [1760, 1]), ('obstacles', [1761, 1]), ('hang', [1763, 1]), ('conditions', [1764, 1]), ('travel', [1765, 1]), ('recommended', [1766, 1]), ('smelled', [1767, 1]), ('mildew', [1768, 1]), ('wisely', [1771, 1]), ('edge', [1772, 1]), ('improving', [1773, 1]), ('convinced', [1774, 1]), ('injured', [1776, 1]), ('matches', [1777, 1]), ('adulting', [1778, 1]), ('elevate', [1780, 1]), ('prosperity', [1781, 1]), ('beans', [1782, 1]), ('laptop', [1788, 1]), ('newly', [1793, 1]), ('released', [1794, 1]), ('vortex', [1798, 1]), ('prepare', [1800, 1]), ('activity', [1801, 1]), ('cog', [1804, 1]), ('giant', [1805, 1]), ('ray', [1806, 1]), ('sunshine', [1807, 1]), ('undermined', [1808, 1]), ('deal', [1809, 1]), ('thinking', [1810, 1]), ('roadwork', [1813, 1]), (\"athlete's\", [1814, 1]), ('marred', [1815, 1]), ('controversy', [1816, 1]), ('mediocre', [1819, 1]), ('performances', [1820, 1]), ('symphony', [1821, 1]), ('fate', [1823, 1]), ('tackle', [1826, 1]), ('shelter', [1828, 1]), ('fullest', [1829, 1]), ('indispensible', [1830, 1]), ('guiding', [1832, 1]), ('desired', [1833, 1]), ('urban', [1835, 1]), ('decay', [1836, 1]), ('reflection', [1837, 1]), ('marriage', [1840, 1]), ('inspired', [1841, 1]), ('construction', [1842, 1]), ('breakup', [1845, 1]), ('inaccurate', [1846, 1]), ('misleading', [1847, 1]), ('regard', [1848, 1]), ('betray', [1849, 1]), ('barren', [1850, 1]), ('wasteland', [1851, 1]), ('unrelenting', [1853, 1]), ('grind', [1854, 1]), ('joyful', [1855, 1]), ('brightens', [1856, 1]), ('perspectives', [1858, 1]), ('alive', [1859, 1]), ('parent/spouse/child', [1860, 1]), ('certain', [1861, 1]), ('player', [1863, 1]), ('catch', [1864, 1]), ('sabotage', [1865, 1]), ('non-stop', [1866, 1]), ('impress', [1869, 1]), ('experts', [1871, 1]), ('warn', [1872, 1]), ('isexpected', [1873, 1]), ('fade', [1874, 1]), ('pleasure', [1876, 1]), ('freely', [1878, 1]), ('stacked', [1879, 1]), ('testament', [1880, 1]), ('inner', [1881, 1]), ('fulfills', [1882, 1]), ('driver', [1883, 1]), ('slip', [1884, 1]), ('transformation', [1885, 1]), ('area', [1886, 1]), (\"phone's\", [1887, 1]), ('destroy', [1889, 1]), ('storms', [1890, 1]), ('insignificance', [1891, 1]), ('willing', [1892, 1]), ('helping', [1893, 1]), ('unwell', [1894, 1]), ('contentment', [1896, 1]), ('vote', [1897, 1]), ('suffocating', [1898, 1]), ('cards', [1899, 1]), ('sense', [1902, 1]), ('told', [1903, 1]), ('bought', [1906, 1]), ('dreamed', [1907, 1]), ('measure', [1908, 1]), ('crippled', [1909, 1]), ('responsibility', [1911, 1]), ('uninterested', [1912, 1]), ('turnover', [1913, 1]), ('everybody', [1914, 1]), ('flourish', [1915, 1]), ('ready', [1916, 1]), ('seize', [1917, 1]), ('\"solution', [1918, 1]), ('proposed', [1919, 1]), ('band-aid', [1920, 1]), ('bullet', [1921, 1]), ('wound', [1922, 1]), ('unconventional', [1923, 1]), ('lemon', [1924, 1]), ('breaks', [1925, 1]), ('traumas', [1926, 1]), ('diverse', [1927, 1]), ('debts', [1928, 1]), ('printer', [1929, 1]), ('jammed', [1930, 1]), ('latest-quarter', [1931, 1]), ('secretly', [1933, 1]), ('stressful', [1935, 1]), ('stocks', [1936, 1]), ('invested', [1937, 1]), ('suggests', [1939, 1]), (\"student's\", [1940, 1]), ('forecasted', [1941, 1]), ('shortages', [1942, 1]), ('nationwide', [1943, 1]), ('naive', [1945, 1]), ('inflation', [1946, 1]), ('spreads', [1947, 1]), ('lie', [1948, 1]), ('using', [1950, 1]), ('benefit', [1951, 1]), ('exploration', [1952, 1]), ('conspiring', [1957, 1]), ('untrainable', [1958, 1]), ('material', [1959, 1]), ('possessions', [1960, 1]), ('looming', [1961, 1]), ('horizon', [1962, 1]), ('surprised', [1964, 1]), ('therapy', [1965, 1]), ('tuesday', [1966, 1]), ('everywhere', [1969, 1]), ('interested', [1970, 1]), ('colors', [1971, 1]), ('sets', [1972, 1]), ('crushes', [1976, 1]), ('shaping', [1977, 1]), ('losses', [1978, 1]), ('embracing', [1979, 1]), ('played', [1983, 1]), ('darker', [1984, 1]), ('receive', [1985, 1]), ('silly', [1986, 1]), ('unreasonable', [1988, 1]), ('frequent', [1989, 1]), ('outages', [1990, 1]), ('sour', [1991, 1]), ('wonderfully', [1992, 1]), ('anticipated', [1993, 1]), ('launch', [1994, 1]), ('indefinitely', [1995, 1]), ('unsaved', [1997, 1]), ('abandons', [2000, 1]), ('ominous', [2001, 1]), ('possesses', [2003, 1]), ('went', [2006, 1]), ('page', [2007, 1]), ('lighten', [2008, 1]), ('infatuation', [2009, 1]), ('vanished', [2011, 1]), ('mankind', [2012, 1]), ('fed', [2013, 1]), ('heel', [2015, 1]), ('liberating', [2016, 1]), ('odds', [2017, 1]), ('100', [2018, 1]), ('credit', [2019, 1]), ('card', [2020, 1]), ('singer', [2021, 1]), ('storming', [2022, 1]), ('offstage', [2023, 1]), ('mid-show', [2024, 1]), ('slower', [2026, 1]), ('experiment', [2027, 1]), ('crashing', [2028, 1]), ('dishonest', [2031, 1]), ('exceptional', [2034, 1]), ('saturday', [2035, 1]), ('ended', [2038, 1]), ('abruptly', [2039, 1]), ('explanation', [2040, 1]), ('confident', [2041, 1]), ('oblivion', [2044, 1]), ('superficial', [2046, 1]), ('spending', [2047, 1]), ('nature', [2048, 1]), ('soothe', [2049, 1]), ('unfriendly', [2051, 1]), ('representative', [2052, 1]), ('forms', [2053, 1]), ('meal', [2054, 1]), ('threatening', [2056, 1]), ('prey', [2057, 1]), ('weak', [2058, 1]), ('monday', [2059, 1]), ('rates', [2060, 1]), ('resource', [2061, 1]), ('pawns', [2062, 1]), ('efficiently', [2063, 1]), ('coach', [2064, 1]), ('stick', [2065, 1]), ('crazy', [2066, 1]), ('switching', [2067, 1]), ('reveals', [2069, 1]), ('alarming', [2070, 1]), ('limit', [2074, 1]), ('straight', [2075, 1]), ('aspire', [2076, 1]), ('sorrow', [2077, 1]), ('unconfident', [2078, 1]), ('skin', [2079, 1]), ('barely', [2081, 1]), ('duplicated', [2082, 1]), ('sum', [2083, 1]), ('skip', [2086, 1]), ('beat', [2087, 1]), ('battlefield', [2088, 1]), ('sway', [2090, 1]), ('trail', [2091, 1]), ('destruction', [2092, 1]), ('devastation', [2093, 1]), ('tasting', [2095, 1]), ('presents', [2096, 1]), ('keeping', [2097, 1]), ('during', [2098, 1]), ('rush', [2099, 1]), ('hour', [2100, 1]), ('running', [2101, 1]), ('cause', [2102, 1]), ('solves', [2103, 1]), ('jobless', [2104, 1]), ('well', [2105, 1]), ('sea', [2106, 1]), ('insecurity', [2107, 1]), ('maintenance', [2108, 1]), ('overcrowded', [2109, 1]), ('ceo', [2110, 1]), ('cardboard', [2112, 1]), ('substantial', [2113, 1]), ('complaints', [2114, 1]), ('treat', [2115, 1]), ('strange', [2116, 1]), ('odor', [2117, 1]), ('liar', [2118, 1]), ('cheat', [2119, 1]), ('throw', [2120, 1]), ('practicing', [2121, 1]), ('truth', [2122, 1]), ('triumph', [2123, 1]), ('awesomeness', [2124, 1]), ('speed', [2125, 1]), ('vast', [2126, 1]), ('understanding', [2127, 1]), ('enjoyed', [2128, 1]), ('buggy', [2129, 1]), ('glorified', [2130, 1]), ('brick', [2131, 1]), ('unfolding', [2132, 1]), ('handbasket', [2134, 1]), ('technology', [2135, 1]), ('compassionate', [2136, 1]), ('embarrassing', [2137, 1]), ('election', [2138, 1]), ('heal', [2139, 1]), ('switch', [2140, 1]), ('freeing', [2141, 1]), ('beats', [2142, 1]), ('relief', [2143, 1]), ('explore', [2144, 1]), ('tangible', [2145, 1]), ('cafeteria', [2146, 1]), ('salary', [2147, 1]), ('deeds', [2148, 1]), ('confusing', [2149, 1]), ('beacon', [2151, 1]), ('realizing', [2152, 1]), ('putting', [2153, 1]), ('damper', [2154, 1]), ('amaze', [2155, 1]), ('adds', [2156, 1]), ('expensive', [2157, 1]), ('monotonous', [2158, 1]), ('far-reaching', [2159, 1]), ('fill', [2160, 1]), ('idiot', [2161, 1]), ('careless', [2163, 1]), ('imagine', [2164, 1]), ('discovery', [2165, 1]), ('fault', [2166, 1]), ('complicated', [2167, 1]), ('achievements', [2168, 1]), ('ex', [2169, 1]), ('devastated', [2170, 1]), ('programs', [2171, 1]), ('outlets', [2173, 1]), ('forgotten', [2174, 1]), ('measured', [2176, 1]), ('non-existent', [2177, 1]), ('airline', [2178, 1]), ('in-flight', [2179, 1]), ('entertainment', [2180, 1]), ('came', [2181, 1]), ('clearing', [2182, 1]), ('anytime', [2183, 1]), ('fired', [2184, 1]), ('consistent', [2185, 1]), ('underperformance', [2186, 1]), ('boldly', [2188, 1]), ('playing', [2189, 1]), ('interview', [2190, 1]), ('accepted', [2191, 1]), ('aimlessly', [2192, 1]), ('owe', [2193, 1]), ('ton', [2194, 1]), ('taxes', [2195, 1]), ('unjust', [2196, 1]), ('downward', [2197, 1]), ('spiral', [2198, 1]), ('spot', [2199, 1]), ('thanks', [2200, 1]), ('unrewarding', [2201, 1]), ('lucky', [2202, 1]), ('genuinely', [2203, 1]), ('experiencing', [2204, 1]), ('short-lived', [2205, 1]), ('disguise', [2206, 1]), ('freezing', [2207, 1]), ('bound', [2208, 1]), ('divorce', [2209, 1]), ('uninteresting', [2210, 1]), ('die', [2211, 1]), ('dull', [2212, 1]), ('scrapped', [2213, 1]), ('immediately', [2214, 1]), ('hellhole', [2215, 1]), ('written', [2216, 1]), ('horribly', [2217, 1]), ('stuff', [2218, 1]), ('follow', [2219, 1]), ('yield', [2220, 1]), ('guide', [2221, 1]), ('zero', [2222, 1]), ('embarrassingly', [2223, 1]), ('one-of-a-kind', [2224, 1]), ('resulting', [2225, 1]), ('shutdown', [2226, 1]), ('outnumber', [2227, 1]), ('lovable', [2228, 1]), ('refuses', [2229, 1]), ('perfection', [2230, 1]), ('major', [2231, 1]), ('setbacks', [2232, 1]), ('comeback', [2233, 1]), ('until', [2234, 1]), ('contributed', [2235, 1]), ('index', [2236, 1]), ('reached', [2237, 1]), ('wildfires', [2238, 1]), ('unaffordable', [2239, 1]), ('low-income', [2240, 1]), ('families', [2241, 1]), ('drudgery', [2242, 1]), ('metabolism', [2243, 1]), ('class', [2244, 1]), ('worried', [2245, 1]), ('interviewed', [2246, 1]), ('brightest', [2247, 1]), ('overrated', [2248, 1]), ('files', [2249, 1]), ('lower', [2250, 1]), ('connections', [2251, 1]), ('clear', [2252, 1]), ('listening', [2253, 1]), ('stagnant', [2254, 1]), ('dim', [2255, 1]), ('foreseeable', [2256, 1]), ('oxygen', [2257, 1]), ('malignant', [2258, 1]), ('tumor', [2259, 1]), ('eyes', [2260, 1]), ('front', [2261, 1]), ('large', [2262, 1]), ('crowds', [2263, 1]), ('loving', [2264, 1]), ('wrapped', [2265, 1]), ('unwrapped', [2266, 1]), ('cherished', [2267, 1]), ('promises', [2268, 1]), ('empty', [2269, 1]), ('growing', [2270, 1]), ('irreplaceable', [2271, 1]), ('doubts', [2272, 1]), ('boil', [2273, 1]), ('order', [2274, 1]), ('eviction', [2275, 1]), ('landlord', [2276, 1]), ('under', [2277, 1]), ('realistic', [2278, 1]), ('shake', [2279, 1]), ('tell', [2280, 1]), ('jokes', [2281, 1]), ('delays', [2282, 1]), ('miscommunication', [2283, 1]), ('cost', [2284, 1]), ('overruns', [2285, 1]), ('confirms', [2286, 1]), ('laying', [2287, 1]), ('half', [2288, 1]), ('workforce', [2289, 1]), ('sloppy', [2290, 1]), ('unemployment', [2291, 1]), ('championships', [2292, 1])]\n"
          ]
        }
      ]
    },
    {
      "cell_type": "code",
      "source": [
        "# check if there are any repeats in allChats\n",
        "for i in range(len(allChats)):\n",
        "  for j in range(i+1, len(allChats)):\n",
        "    if allChats[i][0] == allChats[j][0]:\n",
        "      print(allChats[i])"
      ],
      "metadata": {
        "id": "GWyRLDdRwkKF"
      },
      "execution_count": null,
      "outputs": []
    },
    {
      "cell_type": "code",
      "source": [],
      "metadata": {
        "id": "gub5W_QZxLZs"
      },
      "execution_count": null,
      "outputs": []
    },
    {
      "cell_type": "markdown",
      "source": [
        "I covert from From word-indexes to one-hot-vectors. The theory is each word has a unique meaning that is unknown to my model. This seemed better than the rather brittle embedding approaches I was seening in the literature."
      ],
      "metadata": {
        "id": "4Z2eYV04xPP_"
      }
    },
    {
      "cell_type": "code",
      "source": [
        "import numpy as np\n",
        "chats_to_hot_one_formats = np.zeros(shape=(len(chatsConvertedToNumbers),20,wordCount+50), dtype=\"uint8\")\n",
        "count = 0\n",
        "for i in chatsConvertedToNumbers:\n",
        "  two_d_array = chats_to_hot_one_formats[count]\n",
        "  count += 1\n",
        "  word = 0\n",
        "  for wordNumber in i[0]:\n",
        "    two_d_array[word][wordNumber] = 1\n",
        "    word += 1\n",
        "print(chats_to_hot_one_formats)\n",
        "\n",
        "def convert_string_to_hot_one(chat):\n",
        "  hot_one_array = np.zeros(shape=(20,wordCount+50), dtype=\"uint8\")\n",
        "  word = 0\n",
        "\n",
        "  numberified = convert_string_to_numbers(chat)\n",
        "  for wordNumber in numberified:\n",
        "    hot_one_array[word][wordNumber] = 1\n",
        "    word += 1\n",
        "  return hot_one_array"
      ],
      "metadata": {
        "colab": {
          "base_uri": "https://localhost:8080/"
        },
        "id": "fckk0zsC9vuh",
        "outputId": "d588a135-43ec-49dd-ac76-a73fd92c56c2"
      },
      "execution_count": null,
      "outputs": [
        {
          "output_type": "stream",
          "name": "stdout",
          "text": [
            "[[[1 0 0 ... 0 0 0]\n",
            "  [0 0 1 ... 0 0 0]\n",
            "  [0 1 0 ... 0 0 0]\n",
            "  ...\n",
            "  [0 0 0 ... 0 0 0]\n",
            "  [0 0 0 ... 0 0 0]\n",
            "  [0 0 0 ... 0 0 0]]\n",
            "\n",
            " [[0 0 0 ... 0 0 0]\n",
            "  [0 0 0 ... 0 0 0]\n",
            "  [0 0 0 ... 0 0 0]\n",
            "  ...\n",
            "  [0 0 0 ... 0 0 0]\n",
            "  [0 0 0 ... 0 0 0]\n",
            "  [0 0 0 ... 0 0 0]]\n",
            "\n",
            " [[0 0 0 ... 0 0 0]\n",
            "  [0 0 0 ... 0 0 0]\n",
            "  [0 0 0 ... 0 0 0]\n",
            "  ...\n",
            "  [0 0 0 ... 0 0 0]\n",
            "  [0 0 0 ... 0 0 0]\n",
            "  [0 0 0 ... 0 0 0]]\n",
            "\n",
            " ...\n",
            "\n",
            " [[0 0 0 ... 0 0 0]\n",
            "  [0 0 0 ... 0 0 0]\n",
            "  [0 0 0 ... 0 0 0]\n",
            "  ...\n",
            "  [0 0 0 ... 0 0 0]\n",
            "  [0 0 0 ... 0 0 0]\n",
            "  [0 0 0 ... 0 0 0]]\n",
            "\n",
            " [[0 0 0 ... 0 0 0]\n",
            "  [0 0 0 ... 0 0 0]\n",
            "  [0 0 0 ... 0 0 0]\n",
            "  ...\n",
            "  [0 0 0 ... 0 0 0]\n",
            "  [0 0 0 ... 0 0 0]\n",
            "  [0 0 0 ... 0 0 0]]\n",
            "\n",
            " [[0 0 0 ... 0 0 0]\n",
            "  [0 0 0 ... 0 0 0]\n",
            "  [0 0 0 ... 0 0 0]\n",
            "  ...\n",
            "  [0 0 0 ... 0 0 0]\n",
            "  [0 0 0 ... 0 0 0]\n",
            "  [0 0 0 ... 0 0 0]]]\n"
          ]
        }
      ]
    },
    {
      "cell_type": "markdown",
      "source": [
        "Now for Defining the model."
      ],
      "metadata": {
        "id": "oyYS9jX4xbnt"
      }
    },
    {
      "cell_type": "code",
      "source": [
        "import torch\n",
        "import torch.nn as nn\n",
        "import torch.optim as optim\n",
        "import numpy as np\n",
        "\n",
        "# Define the neural network model\n",
        "class BinaryClassificationModel(nn.Module):\n",
        "    def __init__(self):\n",
        "        super(BinaryClassificationModel, self).__init__()\n",
        "        self.layers = nn.ModuleList()\n",
        "\n",
        "        # Input layer\n",
        "        self.layers.append(nn.Linear((wordCount+50) * 20, 20))\n",
        "\n",
        "        # Repeating dense layers\n",
        "        for _ in range(1):\n",
        "            self.layers.append(nn.Linear(20, 20))\n",
        "\n",
        "        # Output layer\n",
        "        self.output_layer = nn.Linear(20, 1)\n",
        "\n",
        "    def forward(self, x):\n",
        "        x = x.view(-1, (wordCount+50) * 20)  # Flatten the input\n",
        "        for layer in self.layers:\n",
        "            x = torch.relu(layer(x))\n",
        "        x = torch.sigmoid(self.output_layer(x))\n",
        "        return x\n",
        "\n",
        "# Instantiate the model\n",
        "model = BinaryClassificationModel()\n",
        "\n",
        "# Define the loss function and optimizer\n",
        "criterion = nn.BCELoss()\n",
        "optimizer = optim.Adam(model.parameters(), lr=0.01)\n",
        "\n",
        "# Example function to train the model on one batch\n",
        "def train_model(model, criterion, optimizer, test_data, test_labels, val_data, val_labels, epochs=20):\n",
        "    for epoch in range(epochs):\n",
        "        model.train()\n",
        "\n",
        "        # Zero the parameter gradients\n",
        "        optimizer.zero_grad()\n",
        "\n",
        "        # Forward pass\n",
        "        outputs = model(test_data)\n",
        "        loss = criterion(outputs, test_labels)\n",
        "\n",
        "        # Backward pass and optimize\n",
        "        loss.backward()\n",
        "        optimizer.step()\n",
        "\n",
        "        # check against validation set\n",
        "        model.eval()\n",
        "        with torch.no_grad():\n",
        "            val_outputs = model(val_data)\n",
        "            val_loss = criterion(val_outputs, val_labels)\n",
        "            print(f'Epoch [{epoch+1}/{epochs}], Loss: {loss.item():.4f}, Validation Loss: {val_loss.item():.4f}')"
      ],
      "metadata": {
        "id": "r3fJmfZPFrF2",
        "colab": {
          "base_uri": "https://localhost:8080/",
          "height": 454
        },
        "outputId": "acd1fdaf-9f24-4bcf-9948-c934e3b123c2"
      },
      "execution_count": 2,
      "outputs": [
        {
          "output_type": "stream",
          "name": "stderr",
          "text": [
            "Exception ignored in: <function WeakSet.__init__.<locals>._remove at 0x7994da4b8160>\n",
            "Traceback (most recent call last):\n",
            "  File \"/usr/lib/python3.10/_weakrefset.py\", line 39, in _remove\n",
            "    def _remove(item, selfref=ref(self)):\n",
            "KeyboardInterrupt: \n"
          ]
        },
        {
          "output_type": "error",
          "ename": "KeyboardInterrupt",
          "evalue": "",
          "traceback": [
            "\u001b[0;31m---------------------------------------------------------------------------\u001b[0m",
            "\u001b[0;31mKeyboardInterrupt\u001b[0m                         Traceback (most recent call last)",
            "\u001b[0;32m<ipython-input-2-e0db292b602e>\u001b[0m in \u001b[0;36m<cell line: 1>\u001b[0;34m()\u001b[0m\n\u001b[0;32m----> 1\u001b[0;31m \u001b[0;32mimport\u001b[0m \u001b[0mtorch\u001b[0m\u001b[0;34m\u001b[0m\u001b[0;34m\u001b[0m\u001b[0m\n\u001b[0m\u001b[1;32m      2\u001b[0m \u001b[0;32mimport\u001b[0m \u001b[0mtorch\u001b[0m\u001b[0;34m.\u001b[0m\u001b[0mnn\u001b[0m \u001b[0;32mas\u001b[0m \u001b[0mnn\u001b[0m\u001b[0;34m\u001b[0m\u001b[0;34m\u001b[0m\u001b[0m\n\u001b[1;32m      3\u001b[0m \u001b[0;32mimport\u001b[0m \u001b[0mtorch\u001b[0m\u001b[0;34m.\u001b[0m\u001b[0moptim\u001b[0m \u001b[0;32mas\u001b[0m \u001b[0moptim\u001b[0m\u001b[0;34m\u001b[0m\u001b[0;34m\u001b[0m\u001b[0m\n\u001b[1;32m      4\u001b[0m \u001b[0;32mimport\u001b[0m \u001b[0mnumpy\u001b[0m \u001b[0;32mas\u001b[0m \u001b[0mnp\u001b[0m\u001b[0;34m\u001b[0m\u001b[0;34m\u001b[0m\u001b[0m\n\u001b[1;32m      5\u001b[0m \u001b[0;34m\u001b[0m\u001b[0m\n",
            "\u001b[0;32m/usr/local/lib/python3.10/dist-packages/torch/__init__.py\u001b[0m in \u001b[0;36m<module>\u001b[0;34m\u001b[0m\n\u001b[1;32m   1535\u001b[0m \u001b[0;34m\u001b[0m\u001b[0m\n\u001b[1;32m   1536\u001b[0m \u001b[0;31m# needs to be after the above ATen bindings so we can overwrite from Python side\u001b[0m\u001b[0;34m\u001b[0m\u001b[0;34m\u001b[0m\u001b[0m\n\u001b[0;32m-> 1537\u001b[0;31m \u001b[0;32mfrom\u001b[0m \u001b[0;34m.\u001b[0m\u001b[0mfunctional\u001b[0m \u001b[0;32mimport\u001b[0m \u001b[0;34m*\u001b[0m  \u001b[0;31m# noqa: F403\u001b[0m\u001b[0;34m\u001b[0m\u001b[0;34m\u001b[0m\u001b[0m\n\u001b[0m\u001b[1;32m   1538\u001b[0m \u001b[0;34m\u001b[0m\u001b[0m\n\u001b[1;32m   1539\u001b[0m \u001b[0;34m\u001b[0m\u001b[0m\n",
            "\u001b[0;32m/usr/local/lib/python3.10/dist-packages/torch/functional.py\u001b[0m in \u001b[0;36m<module>\u001b[0;34m\u001b[0m\n\u001b[1;32m      7\u001b[0m \u001b[0;32mimport\u001b[0m \u001b[0mtorch\u001b[0m\u001b[0;34m\u001b[0m\u001b[0;34m\u001b[0m\u001b[0m\n\u001b[1;32m      8\u001b[0m \u001b[0;32mfrom\u001b[0m \u001b[0mtorch\u001b[0m\u001b[0;34m.\u001b[0m\u001b[0m_C\u001b[0m \u001b[0;32mimport\u001b[0m \u001b[0m_add_docstr\u001b[0m\u001b[0;34m\u001b[0m\u001b[0;34m\u001b[0m\u001b[0m\n\u001b[0;32m----> 9\u001b[0;31m \u001b[0;32mimport\u001b[0m \u001b[0mtorch\u001b[0m\u001b[0;34m.\u001b[0m\u001b[0mnn\u001b[0m\u001b[0;34m.\u001b[0m\u001b[0mfunctional\u001b[0m \u001b[0;32mas\u001b[0m \u001b[0mF\u001b[0m\u001b[0;34m\u001b[0m\u001b[0;34m\u001b[0m\u001b[0m\n\u001b[0m\u001b[1;32m     10\u001b[0m \u001b[0;32mfrom\u001b[0m \u001b[0;34m.\u001b[0m\u001b[0m_lowrank\u001b[0m \u001b[0;32mimport\u001b[0m \u001b[0msvd_lowrank\u001b[0m\u001b[0;34m,\u001b[0m \u001b[0mpca_lowrank\u001b[0m\u001b[0;34m\u001b[0m\u001b[0;34m\u001b[0m\u001b[0m\n\u001b[1;32m     11\u001b[0m from .overrides import (\n",
            "\u001b[0;32m/usr/local/lib/python3.10/dist-packages/torch/nn/__init__.py\u001b[0m in \u001b[0;36m<module>\u001b[0;34m\u001b[0m\n\u001b[0;32m----> 1\u001b[0;31m \u001b[0;32mfrom\u001b[0m \u001b[0;34m.\u001b[0m\u001b[0mmodules\u001b[0m \u001b[0;32mimport\u001b[0m \u001b[0;34m*\u001b[0m  \u001b[0;31m# noqa: F403\u001b[0m\u001b[0;34m\u001b[0m\u001b[0;34m\u001b[0m\u001b[0m\n\u001b[0m\u001b[1;32m      2\u001b[0m from .parameter import (\n\u001b[1;32m      3\u001b[0m     \u001b[0mParameter\u001b[0m \u001b[0;32mas\u001b[0m \u001b[0mParameter\u001b[0m\u001b[0;34m,\u001b[0m\u001b[0;34m\u001b[0m\u001b[0;34m\u001b[0m\u001b[0m\n\u001b[1;32m      4\u001b[0m     \u001b[0mUninitializedParameter\u001b[0m \u001b[0;32mas\u001b[0m \u001b[0mUninitializedParameter\u001b[0m\u001b[0;34m,\u001b[0m\u001b[0;34m\u001b[0m\u001b[0;34m\u001b[0m\u001b[0m\n\u001b[1;32m      5\u001b[0m     \u001b[0mUninitializedBuffer\u001b[0m \u001b[0;32mas\u001b[0m \u001b[0mUninitializedBuffer\u001b[0m\u001b[0;34m,\u001b[0m\u001b[0;34m\u001b[0m\u001b[0;34m\u001b[0m\u001b[0m\n",
            "\u001b[0;32m/usr/local/lib/python3.10/dist-packages/torch/nn/modules/__init__.py\u001b[0m in \u001b[0;36m<module>\u001b[0;34m\u001b[0m\n\u001b[1;32m      1\u001b[0m \u001b[0;32mfrom\u001b[0m \u001b[0;34m.\u001b[0m\u001b[0mmodule\u001b[0m \u001b[0;32mimport\u001b[0m \u001b[0mModule\u001b[0m\u001b[0;34m\u001b[0m\u001b[0;34m\u001b[0m\u001b[0m\n\u001b[0;32m----> 2\u001b[0;31m \u001b[0;32mfrom\u001b[0m \u001b[0;34m.\u001b[0m\u001b[0mlinear\u001b[0m \u001b[0;32mimport\u001b[0m \u001b[0mIdentity\u001b[0m\u001b[0;34m,\u001b[0m \u001b[0mLinear\u001b[0m\u001b[0;34m,\u001b[0m \u001b[0mBilinear\u001b[0m\u001b[0;34m,\u001b[0m \u001b[0mLazyLinear\u001b[0m\u001b[0;34m\u001b[0m\u001b[0;34m\u001b[0m\u001b[0m\n\u001b[0m\u001b[1;32m      3\u001b[0m \u001b[0;32mfrom\u001b[0m \u001b[0;34m.\u001b[0m\u001b[0mconv\u001b[0m \u001b[0;32mimport\u001b[0m \u001b[0mConv1d\u001b[0m\u001b[0;34m,\u001b[0m \u001b[0mConv2d\u001b[0m\u001b[0;34m,\u001b[0m \u001b[0mConv3d\u001b[0m\u001b[0;34m,\u001b[0m\u001b[0;31m \u001b[0m\u001b[0;31m\\\u001b[0m\u001b[0;34m\u001b[0m\u001b[0;34m\u001b[0m\u001b[0m\n\u001b[1;32m      4\u001b[0m     \u001b[0mConvTranspose1d\u001b[0m\u001b[0;34m,\u001b[0m \u001b[0mConvTranspose2d\u001b[0m\u001b[0;34m,\u001b[0m \u001b[0mConvTranspose3d\u001b[0m\u001b[0;34m,\u001b[0m\u001b[0;31m \u001b[0m\u001b[0;31m\\\u001b[0m\u001b[0;34m\u001b[0m\u001b[0;34m\u001b[0m\u001b[0m\n\u001b[1;32m      5\u001b[0m     \u001b[0mLazyConv1d\u001b[0m\u001b[0;34m,\u001b[0m \u001b[0mLazyConv2d\u001b[0m\u001b[0;34m,\u001b[0m \u001b[0mLazyConv3d\u001b[0m\u001b[0;34m,\u001b[0m \u001b[0mLazyConvTranspose1d\u001b[0m\u001b[0;34m,\u001b[0m \u001b[0mLazyConvTranspose2d\u001b[0m\u001b[0;34m,\u001b[0m \u001b[0mLazyConvTranspose3d\u001b[0m\u001b[0;34m\u001b[0m\u001b[0;34m\u001b[0m\u001b[0m\n",
            "\u001b[0;32m/usr/local/lib/python3.10/dist-packages/torch/nn/modules/linear.py\u001b[0m in \u001b[0;36m<module>\u001b[0;34m\u001b[0m\n\u001b[1;32m      5\u001b[0m \u001b[0;32mfrom\u001b[0m \u001b[0mtorch\u001b[0m \u001b[0;32mimport\u001b[0m \u001b[0mTensor\u001b[0m\u001b[0;34m\u001b[0m\u001b[0;34m\u001b[0m\u001b[0m\n\u001b[1;32m      6\u001b[0m \u001b[0;32mfrom\u001b[0m \u001b[0mtorch\u001b[0m\u001b[0;34m.\u001b[0m\u001b[0mnn\u001b[0m\u001b[0;34m.\u001b[0m\u001b[0mparameter\u001b[0m \u001b[0;32mimport\u001b[0m \u001b[0mParameter\u001b[0m\u001b[0;34m,\u001b[0m \u001b[0mUninitializedParameter\u001b[0m\u001b[0;34m\u001b[0m\u001b[0;34m\u001b[0m\u001b[0m\n\u001b[0;32m----> 7\u001b[0;31m \u001b[0;32mfrom\u001b[0m \u001b[0;34m.\u001b[0m\u001b[0;34m.\u001b[0m \u001b[0;32mimport\u001b[0m \u001b[0mfunctional\u001b[0m \u001b[0;32mas\u001b[0m \u001b[0mF\u001b[0m\u001b[0;34m\u001b[0m\u001b[0;34m\u001b[0m\u001b[0m\n\u001b[0m\u001b[1;32m      8\u001b[0m \u001b[0;32mfrom\u001b[0m \u001b[0;34m.\u001b[0m\u001b[0;34m.\u001b[0m \u001b[0;32mimport\u001b[0m \u001b[0minit\u001b[0m\u001b[0;34m\u001b[0m\u001b[0;34m\u001b[0m\u001b[0m\n\u001b[1;32m      9\u001b[0m \u001b[0;32mfrom\u001b[0m \u001b[0;34m.\u001b[0m\u001b[0mmodule\u001b[0m \u001b[0;32mimport\u001b[0m \u001b[0mModule\u001b[0m\u001b[0;34m\u001b[0m\u001b[0;34m\u001b[0m\u001b[0m\n",
            "\u001b[0;32m/usr/local/lib/python3.10/dist-packages/torch/nn/functional.py\u001b[0m in \u001b[0;36m<module>\u001b[0;34m\u001b[0m\n\u001b[1;32m   4143\u001b[0m \u001b[0;34m\u001b[0m\u001b[0m\n\u001b[1;32m   4144\u001b[0m \u001b[0;34m@\u001b[0m\u001b[0m_overload\u001b[0m  \u001b[0;31m# noqa: F811\u001b[0m\u001b[0;34m\u001b[0m\u001b[0;34m\u001b[0m\u001b[0m\n\u001b[0;32m-> 4145\u001b[0;31m def upsample_bilinear(  # noqa: F811\n\u001b[0m\u001b[1;32m   4146\u001b[0m     \u001b[0minput\u001b[0m\u001b[0;34m:\u001b[0m \u001b[0mTensor\u001b[0m\u001b[0;34m,\u001b[0m \u001b[0msize\u001b[0m\u001b[0;34m:\u001b[0m \u001b[0mOptional\u001b[0m\u001b[0;34m[\u001b[0m\u001b[0mList\u001b[0m\u001b[0;34m[\u001b[0m\u001b[0mint\u001b[0m\u001b[0;34m]\u001b[0m\u001b[0;34m]\u001b[0m \u001b[0;34m=\u001b[0m \u001b[0;32mNone\u001b[0m\u001b[0;34m,\u001b[0m \u001b[0mscale_factor\u001b[0m\u001b[0;34m:\u001b[0m \u001b[0mOptional\u001b[0m\u001b[0;34m[\u001b[0m\u001b[0mfloat\u001b[0m\u001b[0;34m]\u001b[0m \u001b[0;34m=\u001b[0m \u001b[0;32mNone\u001b[0m\u001b[0;34m\u001b[0m\u001b[0;34m\u001b[0m\u001b[0m\n\u001b[1;32m   4147\u001b[0m ) -> Tensor:  # noqa: F811\n",
            "\u001b[0;32m/usr/local/lib/python3.10/dist-packages/torch/_jit_internal.py\u001b[0m in \u001b[0;36m_overload\u001b[0;34m(func)\u001b[0m\n\u001b[1;32m    887\u001b[0m \u001b[0;34m\u001b[0m\u001b[0m\n\u001b[1;32m    888\u001b[0m \u001b[0;32mdef\u001b[0m \u001b[0m_overload\u001b[0m\u001b[0;34m(\u001b[0m\u001b[0mfunc\u001b[0m\u001b[0;34m)\u001b[0m\u001b[0;34m:\u001b[0m\u001b[0;34m\u001b[0m\u001b[0;34m\u001b[0m\u001b[0m\n\u001b[0;32m--> 889\u001b[0;31m     \u001b[0m_check_overload_body\u001b[0m\u001b[0;34m(\u001b[0m\u001b[0mfunc\u001b[0m\u001b[0;34m)\u001b[0m\u001b[0;34m\u001b[0m\u001b[0;34m\u001b[0m\u001b[0m\n\u001b[0m\u001b[1;32m    890\u001b[0m     \u001b[0mqual_name\u001b[0m \u001b[0;34m=\u001b[0m \u001b[0m_qualified_name\u001b[0m\u001b[0;34m(\u001b[0m\u001b[0mfunc\u001b[0m\u001b[0;34m)\u001b[0m\u001b[0;34m\u001b[0m\u001b[0;34m\u001b[0m\u001b[0m\n\u001b[1;32m    891\u001b[0m     \u001b[0;32mglobal\u001b[0m \u001b[0m_overloaded_fns\u001b[0m\u001b[0;34m\u001b[0m\u001b[0;34m\u001b[0m\u001b[0m\n",
            "\u001b[0;32m/usr/local/lib/python3.10/dist-packages/torch/_jit_internal.py\u001b[0m in \u001b[0;36m_check_overload_body\u001b[0;34m(func)\u001b[0m\n\u001b[1;32m    860\u001b[0m \u001b[0;32mdef\u001b[0m \u001b[0m_check_overload_body\u001b[0m\u001b[0;34m(\u001b[0m\u001b[0mfunc\u001b[0m\u001b[0;34m)\u001b[0m\u001b[0;34m:\u001b[0m\u001b[0;34m\u001b[0m\u001b[0;34m\u001b[0m\u001b[0m\n\u001b[1;32m    861\u001b[0m     \u001b[0;32mtry\u001b[0m\u001b[0;34m:\u001b[0m\u001b[0;34m\u001b[0m\u001b[0;34m\u001b[0m\u001b[0m\n\u001b[0;32m--> 862\u001b[0;31m         \u001b[0mparsed_def\u001b[0m \u001b[0;34m=\u001b[0m \u001b[0mparse_def\u001b[0m\u001b[0;34m(\u001b[0m\u001b[0mfunc\u001b[0m\u001b[0;34m)\u001b[0m\u001b[0;34m\u001b[0m\u001b[0;34m\u001b[0m\u001b[0m\n\u001b[0m\u001b[1;32m    863\u001b[0m     \u001b[0;32mexcept\u001b[0m \u001b[0mOSError\u001b[0m \u001b[0;32mas\u001b[0m \u001b[0me\u001b[0m\u001b[0;34m:\u001b[0m\u001b[0;34m\u001b[0m\u001b[0;34m\u001b[0m\u001b[0m\n\u001b[1;32m    864\u001b[0m         \u001b[0;31m# Parsing the function definition can raise an OSError if source is unavailable.\u001b[0m\u001b[0;34m\u001b[0m\u001b[0;34m\u001b[0m\u001b[0m\n",
            "\u001b[0;32m/usr/local/lib/python3.10/dist-packages/torch/_sources.py\u001b[0m in \u001b[0;36mparse_def\u001b[0;34m(fn)\u001b[0m\n\u001b[1;32m    118\u001b[0m \u001b[0;34m\u001b[0m\u001b[0m\n\u001b[1;32m    119\u001b[0m \u001b[0;32mdef\u001b[0m \u001b[0mparse_def\u001b[0m\u001b[0;34m(\u001b[0m\u001b[0mfn\u001b[0m\u001b[0;34m)\u001b[0m\u001b[0;34m:\u001b[0m\u001b[0;34m\u001b[0m\u001b[0;34m\u001b[0m\u001b[0m\n\u001b[0;32m--> 120\u001b[0;31m     sourcelines, file_lineno, filename = get_source_lines_and_file(\n\u001b[0m\u001b[1;32m    121\u001b[0m         \u001b[0mfn\u001b[0m\u001b[0;34m,\u001b[0m \u001b[0mErrorReport\u001b[0m\u001b[0;34m.\u001b[0m\u001b[0mcall_stack\u001b[0m\u001b[0;34m(\u001b[0m\u001b[0;34m)\u001b[0m\u001b[0;34m\u001b[0m\u001b[0;34m\u001b[0m\u001b[0m\n\u001b[1;32m    122\u001b[0m     )\n",
            "\u001b[0;32m/usr/local/lib/python3.10/dist-packages/torch/_sources.py\u001b[0m in \u001b[0;36mget_source_lines_and_file\u001b[0;34m(obj, error_msg)\u001b[0m\n\u001b[1;32m     21\u001b[0m     \u001b[0;32mtry\u001b[0m\u001b[0;34m:\u001b[0m\u001b[0;34m\u001b[0m\u001b[0;34m\u001b[0m\u001b[0m\n\u001b[1;32m     22\u001b[0m         \u001b[0mfilename\u001b[0m \u001b[0;34m=\u001b[0m \u001b[0minspect\u001b[0m\u001b[0;34m.\u001b[0m\u001b[0mgetsourcefile\u001b[0m\u001b[0;34m(\u001b[0m\u001b[0mobj\u001b[0m\u001b[0;34m)\u001b[0m\u001b[0;34m\u001b[0m\u001b[0;34m\u001b[0m\u001b[0m\n\u001b[0;32m---> 23\u001b[0;31m         \u001b[0msourcelines\u001b[0m\u001b[0;34m,\u001b[0m \u001b[0mfile_lineno\u001b[0m \u001b[0;34m=\u001b[0m \u001b[0minspect\u001b[0m\u001b[0;34m.\u001b[0m\u001b[0mgetsourcelines\u001b[0m\u001b[0;34m(\u001b[0m\u001b[0mobj\u001b[0m\u001b[0;34m)\u001b[0m\u001b[0;34m\u001b[0m\u001b[0;34m\u001b[0m\u001b[0m\n\u001b[0m\u001b[1;32m     24\u001b[0m     \u001b[0;32mexcept\u001b[0m \u001b[0mOSError\u001b[0m \u001b[0;32mas\u001b[0m \u001b[0me\u001b[0m\u001b[0;34m:\u001b[0m\u001b[0;34m\u001b[0m\u001b[0;34m\u001b[0m\u001b[0m\n\u001b[1;32m     25\u001b[0m         msg = (\n",
            "\u001b[0;32m/usr/lib/python3.10/inspect.py\u001b[0m in \u001b[0;36mgetsourcelines\u001b[0;34m(object)\u001b[0m\n\u001b[1;32m   1129\u001b[0m         \u001b[0;32mreturn\u001b[0m \u001b[0mlines\u001b[0m\u001b[0;34m,\u001b[0m \u001b[0;36m0\u001b[0m\u001b[0;34m\u001b[0m\u001b[0;34m\u001b[0m\u001b[0m\n\u001b[1;32m   1130\u001b[0m     \u001b[0;32melse\u001b[0m\u001b[0;34m:\u001b[0m\u001b[0;34m\u001b[0m\u001b[0;34m\u001b[0m\u001b[0m\n\u001b[0;32m-> 1131\u001b[0;31m         \u001b[0;32mreturn\u001b[0m \u001b[0mgetblock\u001b[0m\u001b[0;34m(\u001b[0m\u001b[0mlines\u001b[0m\u001b[0;34m[\u001b[0m\u001b[0mlnum\u001b[0m\u001b[0;34m:\u001b[0m\u001b[0;34m]\u001b[0m\u001b[0;34m)\u001b[0m\u001b[0;34m,\u001b[0m \u001b[0mlnum\u001b[0m \u001b[0;34m+\u001b[0m \u001b[0;36m1\u001b[0m\u001b[0;34m\u001b[0m\u001b[0;34m\u001b[0m\u001b[0m\n\u001b[0m\u001b[1;32m   1132\u001b[0m \u001b[0;34m\u001b[0m\u001b[0m\n\u001b[1;32m   1133\u001b[0m \u001b[0;32mdef\u001b[0m \u001b[0mgetsource\u001b[0m\u001b[0;34m(\u001b[0m\u001b[0mobject\u001b[0m\u001b[0;34m)\u001b[0m\u001b[0;34m:\u001b[0m\u001b[0;34m\u001b[0m\u001b[0;34m\u001b[0m\u001b[0m\n",
            "\u001b[0;32m/usr/lib/python3.10/inspect.py\u001b[0m in \u001b[0;36mgetblock\u001b[0;34m(lines)\u001b[0m\n\u001b[1;32m   1104\u001b[0m     \u001b[0;32mtry\u001b[0m\u001b[0;34m:\u001b[0m\u001b[0;34m\u001b[0m\u001b[0;34m\u001b[0m\u001b[0m\n\u001b[1;32m   1105\u001b[0m         \u001b[0mtokens\u001b[0m \u001b[0;34m=\u001b[0m \u001b[0mtokenize\u001b[0m\u001b[0;34m.\u001b[0m\u001b[0mgenerate_tokens\u001b[0m\u001b[0;34m(\u001b[0m\u001b[0miter\u001b[0m\u001b[0;34m(\u001b[0m\u001b[0mlines\u001b[0m\u001b[0;34m)\u001b[0m\u001b[0;34m.\u001b[0m\u001b[0m__next__\u001b[0m\u001b[0;34m)\u001b[0m\u001b[0;34m\u001b[0m\u001b[0;34m\u001b[0m\u001b[0m\n\u001b[0;32m-> 1106\u001b[0;31m         \u001b[0;32mfor\u001b[0m \u001b[0m_token\u001b[0m \u001b[0;32min\u001b[0m \u001b[0mtokens\u001b[0m\u001b[0;34m:\u001b[0m\u001b[0;34m\u001b[0m\u001b[0;34m\u001b[0m\u001b[0m\n\u001b[0m\u001b[1;32m   1107\u001b[0m             \u001b[0mblockfinder\u001b[0m\u001b[0;34m.\u001b[0m\u001b[0mtokeneater\u001b[0m\u001b[0;34m(\u001b[0m\u001b[0;34m*\u001b[0m\u001b[0m_token\u001b[0m\u001b[0;34m)\u001b[0m\u001b[0;34m\u001b[0m\u001b[0;34m\u001b[0m\u001b[0m\n\u001b[1;32m   1108\u001b[0m     \u001b[0;32mexcept\u001b[0m \u001b[0;34m(\u001b[0m\u001b[0mEndOfBlock\u001b[0m\u001b[0;34m,\u001b[0m \u001b[0mIndentationError\u001b[0m\u001b[0;34m)\u001b[0m\u001b[0;34m:\u001b[0m\u001b[0;34m\u001b[0m\u001b[0;34m\u001b[0m\u001b[0m\n",
            "\u001b[0;32m/usr/lib/python3.10/tokenize.py\u001b[0m in \u001b[0;36m_tokenize\u001b[0;34m(readline, encoding)\u001b[0m\n\u001b[1;32m    571\u001b[0m                 elif (initial in single_quoted or\n\u001b[1;32m    572\u001b[0m                       \u001b[0mtoken\u001b[0m\u001b[0;34m[\u001b[0m\u001b[0;34m:\u001b[0m\u001b[0;36m2\u001b[0m\u001b[0;34m]\u001b[0m \u001b[0;32min\u001b[0m \u001b[0msingle_quoted\u001b[0m \u001b[0;32mor\u001b[0m\u001b[0;34m\u001b[0m\u001b[0;34m\u001b[0m\u001b[0m\n\u001b[0;32m--> 573\u001b[0;31m                       token[:3] in single_quoted):\n\u001b[0m\u001b[1;32m    574\u001b[0m                     \u001b[0;32mif\u001b[0m \u001b[0mtoken\u001b[0m\u001b[0;34m[\u001b[0m\u001b[0;34m-\u001b[0m\u001b[0;36m1\u001b[0m\u001b[0;34m]\u001b[0m \u001b[0;34m==\u001b[0m \u001b[0;34m'\\n'\u001b[0m\u001b[0;34m:\u001b[0m                  \u001b[0;31m# continued string\u001b[0m\u001b[0;34m\u001b[0m\u001b[0;34m\u001b[0m\u001b[0m\n\u001b[1;32m    575\u001b[0m                         \u001b[0mstrstart\u001b[0m \u001b[0;34m=\u001b[0m \u001b[0;34m(\u001b[0m\u001b[0mlnum\u001b[0m\u001b[0;34m,\u001b[0m \u001b[0mstart\u001b[0m\u001b[0;34m)\u001b[0m\u001b[0;34m\u001b[0m\u001b[0;34m\u001b[0m\u001b[0m\n",
            "\u001b[0;31mKeyboardInterrupt\u001b[0m: "
          ]
        }
      ]
    },
    {
      "cell_type": "markdown",
      "source": [
        "Put labels in the correct format"
      ],
      "metadata": {
        "id": "hxMjwXSrxmC2"
      }
    },
    {
      "cell_type": "code",
      "source": [
        "labelOfChats = []\n",
        "for (chat, sentiment) in chatsConvertedToNumbers:\n",
        "  if sentiment == \"positive\":\n",
        "    labelOfChats.append([1])\n",
        "  else:\n",
        "    labelOfChats.append([0])\n",
        "# Example labels (replace with your actual labels)\n",
        "labels = torch.tensor(np.array(labelOfChats), dtype=torch.float32)  # Convert to a PyTorch tensor\n"
      ],
      "metadata": {
        "id": "ZvumJS6CSxZ-"
      },
      "execution_count": null,
      "outputs": []
    },
    {
      "cell_type": "markdown",
      "source": [
        "Divide test and validation set, about 50/50 seemed good"
      ],
      "metadata": {
        "id": "rwqwUW_Jxphg"
      }
    },
    {
      "cell_type": "code",
      "source": [
        "\n",
        "# Convert NumPy matrices to a PyTorch tensor\n",
        "data_tensor = torch.tensor(chats_to_hot_one_formats, dtype=torch.float32)  # Convert to a PyTorch tensor\n",
        "data_tensor = data_tensor.view(len(chats_to_hot_one_formats), -1)  # Reshape to (num_samples, 2500 * 20)\n",
        "\n",
        "# split data_tensor to leave off the last 1000 elements\n",
        "division = -1500\n",
        "test_data = data_tensor[:division]\n",
        "test_labels = labels[:division]\n",
        "val_data = data_tensor[division:]\n",
        "val_labels = labels[division:]\n",
        "# Train the model\n",
        "train_model(model, criterion, optimizer, test_data, test_labels, val_data, val_labels)"
      ],
      "metadata": {
        "colab": {
          "base_uri": "https://localhost:8080/"
        },
        "id": "X6gbvxd5TAdl",
        "outputId": "6735db32-8de1-40f9-9993-c12f7580dfbc"
      },
      "execution_count": null,
      "outputs": [
        {
          "output_type": "stream",
          "name": "stdout",
          "text": [
            "Epoch [1/20], Loss: 0.6902, Validation Loss: 0.6749\n",
            "Epoch [2/20], Loss: 0.6718, Validation Loss: 0.6463\n",
            "Epoch [3/20], Loss: 0.6390, Validation Loss: 0.6086\n",
            "Epoch [4/20], Loss: 0.5963, Validation Loss: 0.5642\n",
            "Epoch [5/20], Loss: 0.5450, Validation Loss: 0.5123\n",
            "Epoch [6/20], Loss: 0.4852, Validation Loss: 0.4557\n",
            "Epoch [7/20], Loss: 0.4210, Validation Loss: 0.3964\n",
            "Epoch [8/20], Loss: 0.3558, Validation Loss: 0.3373\n",
            "Epoch [9/20], Loss: 0.2931, Validation Loss: 0.2816\n",
            "Epoch [10/20], Loss: 0.2364, Validation Loss: 0.2314\n",
            "Epoch [11/20], Loss: 0.1870, Validation Loss: 0.1873\n",
            "Epoch [12/20], Loss: 0.1448, Validation Loss: 0.1490\n",
            "Epoch [13/20], Loss: 0.1088, Validation Loss: 0.1164\n",
            "Epoch [14/20], Loss: 0.0787, Validation Loss: 0.0891\n",
            "Epoch [15/20], Loss: 0.0544, Validation Loss: 0.0674\n",
            "Epoch [16/20], Loss: 0.0358, Validation Loss: 0.0512\n",
            "Epoch [17/20], Loss: 0.0226, Validation Loss: 0.0398\n",
            "Epoch [18/20], Loss: 0.0139, Validation Loss: 0.0324\n",
            "Epoch [19/20], Loss: 0.0083, Validation Loss: 0.0278\n",
            "Epoch [20/20], Loss: 0.0050, Validation Loss: 0.0253\n"
          ]
        }
      ]
    },
    {
      "cell_type": "markdown",
      "source": [
        "Now I can spot check values in the model\n"
      ],
      "metadata": {
        "id": "4R5cJACBxy4R"
      }
    },
    {
      "cell_type": "code",
      "source": [
        "# test the model against a new string\n",
        "output = model(torch.tensor(convert_string_to_hot_one(\"You are mean.\"), dtype=torch.float32).view(1, -1))\n",
        "output = output.detach().numpy()\n",
        "if(output[0][0] > 0.5):\n",
        "  print(\"positive\")\n",
        "else:\n",
        "  print(\"negative\")"
      ],
      "metadata": {
        "id": "1bwMCqjuThmo",
        "colab": {
          "base_uri": "https://localhost:8080/"
        },
        "outputId": "3d3acf6f-fb7f-423b-8d42-e7bd8abc2b16"
      },
      "execution_count": null,
      "outputs": [
        {
          "output_type": "stream",
          "name": "stdout",
          "text": [
            "positive\n"
          ]
        }
      ]
    }
  ],
  "metadata": {
    "colab": {
      "provenance": [],
      "mount_file_id": "1r67LHDw6k28RbUohgdqeT8NszYBIV2ue",
      "authorship_tag": "ABX9TyMaaJIDBrrZ/1Qvl4WI+zax",
      "include_colab_link": true
    },
    "kernelspec": {
      "display_name": "Python 3",
      "name": "python3"
    },
    "language_info": {
      "name": "python"
    }
  },
  "nbformat": 4,
  "nbformat_minor": 0
}